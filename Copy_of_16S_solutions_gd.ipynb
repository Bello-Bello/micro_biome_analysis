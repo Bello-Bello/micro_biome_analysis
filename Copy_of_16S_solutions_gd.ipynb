{
  "cells": [
    {
      "cell_type": "markdown",
      "metadata": {
        "id": "view-in-github"
      },
      "source": [
        "<a href=\"https://colab.research.google.com/github/Gibbons-Lab/isb_course_2021/blob/main/16S_solutions.ipynb\" target=\"_parent\"><img src=\"https://colab.research.google.com/assets/colab-badge.svg\" alt=\"Open In Colab\"/></a>"
      ]
    },
    {
      "cell_type": "markdown",
      "metadata": {
        "id": "nQRlv0ypvthh"
      },
      "source": [
        "# 🦠 Amplicon Sequencing Data Analysis with Qiime 2\n",
        "\n",
        "This notebook will accompany the first session of the 2021 ISB Virtual Microbiome Series. The presentation slides can be [found here](https://gibbons-lab.github.io/isb_course_2021/16S). \n",
        "\n",
        "Save your own local copy of this notebook by using `File > Save a copy in Drive`. At some point you may be promted to trust the notebook. We promise that it is safe 🤞\n",
        "\n",
        "**Disclaimer:**\n",
        "\n",
        "The Google Colab notebook environment will interpret any command as Python code by default. If we want to run bash commands we will have to prefix them by `!`. So any command you see with a leading `!` is a bash command and if you wanted to run it in your terminal you would omit the leading `!`. For example, if in the Colab notebook you ran `!wget` you would just run `wget` in your terminal. \n",
        "\n",
        "## Setup\n",
        "\n",
        "QIIME 2 is usually installed by following the [official installation instructions](https://docs.qiime2.org/2021.8/install/). However, because we are using Google Colab and there are some caveats to using conda here, we will have to hack around the installation a little bit. But no worries, we provide a setup script below which does all this work for us. 😌 \n",
        "\n",
        "So...let's start by pulling a local copy of the project repository down from GitHub."
      ]
    },
    {
      "cell_type": "code",
      "execution_count": null,
      "metadata": {
        "colab": {
          "base_uri": "https://localhost:8080/"
        },
        "id": "QFsZdvOuvZmq",
        "outputId": "5d8a666b-b737-4ec0-fc66-6fb23f2dc560"
      },
      "outputs": [
        {
          "output_type": "stream",
          "name": "stdout",
          "text": [
            "Cloning into 'materials'...\n",
            "remote: Enumerating objects: 136, done.\u001b[K\n",
            "remote: Counting objects: 100% (60/60), done.\u001b[K\n",
            "remote: Compressing objects: 100% (58/58), done.\u001b[K\n",
            "remote: Total 136 (delta 17), reused 0 (delta 0), pack-reused 76\u001b[K\n",
            "Receiving objects: 100% (136/136), 188.58 MiB | 19.59 MiB/s, done.\n",
            "Resolving deltas: 100% (19/19), done.\n",
            "Checking out files: 100% (94/94), done.\n"
          ]
        }
      ],
      "source": [
        "# !git clone https://github.com/gibbons-lab/isb_course_2021 materials\n",
        "!git clone https://github.com/Bello-Bello/micro_biome_workpr materials"
      ]
    },
    {
      "cell_type": "markdown",
      "metadata": {
        "id": "2eenIEY76mcv"
      },
      "source": [
        "We will switch to working within the `materials` directory for the rest of the notebook."
      ]
    },
    {
      "cell_type": "code",
      "execution_count": null,
      "metadata": {
        "colab": {
          "base_uri": "https://localhost:8080/"
        },
        "id": "h3NALJ7u6mBP",
        "outputId": "12765bdf-dabd-4e92-9efa-e60af8d7057f"
      },
      "outputs": [
        {
          "name": "stdout",
          "output_type": "stream",
          "text": [
            "/content/materials\n"
          ]
        }
      ],
      "source": [
        "%cd materials"
      ]
    },
    {
      "cell_type": "markdown",
      "metadata": {
        "id": "fQVnDjFauZ-n"
      },
      "source": [
        "Now we are ready to set up our environment. This will take about 10-15 minutes. \n",
        "\n",
        "**Note**: This setup is only relevant for Google Colaboratory and will not work on your local machine. Please follow the [official installation instructions](https://docs.qiime2.org/2021.8/install/) for that."
      ]
    },
    {
      "cell_type": "code",
      "execution_count": null,
      "metadata": {
        "colab": {
          "base_uri": "https://localhost:8080/",
          "height": 127
        },
        "id": "BAyTazMCvrpf",
        "outputId": "79d3ce98-7d85-4f30-df70-073fc83f55ee"
      },
      "outputs": [
        {
          "data": {
            "text/html": [
              "<pre style=\"white-space:pre;overflow-x:auto;line-height:normal;font-family:Menlo,'DejaVu Sans Mono',consolas,'Courier New',monospace\"><span style=\"color: #7fbfbf; text-decoration-color: #7fbfbf\">[16:33:58] </span>🐍 Miniconda is already installed. Skipped.                                              <a href=\"file:///content/materials/setup_qiime2\" target=\"_blank\"><span style=\"color: #7f7f7f; text-decoration-color: #7f7f7f\">setup_qiime2</span></a><span style=\"color: #7f7f7f; text-decoration-color: #7f7f7f\">:</span><a href=\"file:///content/materials/setup_qiime2#99\" target=\"_blank\"><span style=\"color: #7f7f7f; text-decoration-color: #7f7f7f\">99</span></a>\n",
              "</pre>\n"
            ],
            "text/plain": [
              "\u001b[2;36m[16:33:58]\u001b[0m\u001b[2;36m \u001b[0m🐍 Miniconda is already installed. Skipped.                                              \u001b]8;id=18567;file:///content/materials/setup_qiime2\u001b\\\u001b[2msetup_qiime2\u001b[0m\u001b]8;;\u001b\\\u001b[2m:\u001b[0m\u001b]8;id=100143;file:///content/materials/setup_qiime2#99\u001b\\\u001b[2m99\u001b[0m\u001b]8;;\u001b\\\n"
            ]
          },
          "metadata": {},
          "output_type": "display_data"
        },
        {
          "data": {
            "text/html": [
              "<pre style=\"white-space:pre;overflow-x:auto;line-height:normal;font-family:Menlo,'DejaVu Sans Mono',consolas,'Courier New',monospace\"><span style=\"color: #7fbfbf; text-decoration-color: #7fbfbf\">           </span>🔍 Qiime <span style=\"color: #008080; text-decoration-color: #008080; font-weight: bold\">2</span> is already installed. Skipped.                                               <a href=\"file:///content/materials/setup_qiime2\" target=\"_blank\"><span style=\"color: #7f7f7f; text-decoration-color: #7f7f7f\">setup_qiime2</span></a><span style=\"color: #7f7f7f; text-decoration-color: #7f7f7f\">:</span><a href=\"file:///content/materials/setup_qiime2#126\" target=\"_blank\"><span style=\"color: #7f7f7f; text-decoration-color: #7f7f7f\">126</span></a>\n",
              "</pre>\n"
            ],
            "text/plain": [
              "\u001b[2;36m          \u001b[0m\u001b[2;36m \u001b[0m🔍 Qiime \u001b[1;36m2\u001b[0m is already installed. Skipped.                                               \u001b]8;id=696042;file:///content/materials/setup_qiime2\u001b\\\u001b[2msetup_qiime2\u001b[0m\u001b]8;;\u001b\\\u001b[2m:\u001b[0m\u001b]8;id=346204;file:///content/materials/setup_qiime2#126\u001b\\\u001b[2m126\u001b[0m\u001b]8;;\u001b\\\n"
            ]
          },
          "metadata": {},
          "output_type": "display_data"
        },
        {
          "data": {
            "text/html": [
              "<pre style=\"white-space:pre;overflow-x:auto;line-height:normal;font-family:Menlo,'DejaVu Sans Mono',consolas,'Courier New',monospace\"><span style=\"color: #7fbfbf; text-decoration-color: #7fbfbf\">           </span>📊 Checking that Qiime <span style=\"color: #008080; text-decoration-color: #008080; font-weight: bold\">2</span> command line works<span style=\"color: #808000; text-decoration-color: #808000\">...</span>                                           <a href=\"file:///content/materials/setup_qiime2\" target=\"_blank\"><span style=\"color: #7f7f7f; text-decoration-color: #7f7f7f\">setup_qiime2</span></a><span style=\"color: #7f7f7f; text-decoration-color: #7f7f7f\">:</span><a href=\"file:///content/materials/setup_qiime2#56\" target=\"_blank\"><span style=\"color: #7f7f7f; text-decoration-color: #7f7f7f\">56</span></a>\n",
              "</pre>\n"
            ],
            "text/plain": [
              "\u001b[2;36m          \u001b[0m\u001b[2;36m \u001b[0m📊 Checking that Qiime \u001b[1;36m2\u001b[0m command line works\u001b[33m...\u001b[0m                                           \u001b]8;id=230470;file:///content/materials/setup_qiime2\u001b\\\u001b[2msetup_qiime2\u001b[0m\u001b]8;;\u001b\\\u001b[2m:\u001b[0m\u001b]8;id=419611;file:///content/materials/setup_qiime2#56\u001b\\\u001b[2m56\u001b[0m\u001b]8;;\u001b\\\n"
            ]
          },
          "metadata": {},
          "output_type": "display_data"
        },
        {
          "data": {
            "text/html": [
              "<pre style=\"white-space:pre;overflow-x:auto;line-height:normal;font-family:Menlo,'DejaVu Sans Mono',consolas,'Courier New',monospace\"><span style=\"color: #7fbfbf; text-decoration-color: #7fbfbf\">[16:34:00] </span><span style=\"color: #000080; text-decoration-color: #000080\">📊 Qiime </span><span style=\"color: #000080; text-decoration-color: #000080; font-weight: bold\">2</span><span style=\"color: #000080; text-decoration-color: #000080\"> command line looks good 🎉</span>                                                    <a href=\"file:///content/materials/setup_qiime2\" target=\"_blank\"><span style=\"color: #7f7f7f; text-decoration-color: #7f7f7f\">setup_qiime2</span></a><span style=\"color: #7f7f7f; text-decoration-color: #7f7f7f\">:</span><a href=\"file:///content/materials/setup_qiime2#62\" target=\"_blank\"><span style=\"color: #7f7f7f; text-decoration-color: #7f7f7f\">62</span></a>\n",
              "</pre>\n"
            ],
            "text/plain": [
              "\u001b[2;36m[16:34:00]\u001b[0m\u001b[2;36m \u001b[0m\u001b[34m📊 Qiime \u001b[0m\u001b[1;34m2\u001b[0m\u001b[34m command line looks good 🎉\u001b[0m                                                    \u001b]8;id=572262;file:///content/materials/setup_qiime2\u001b\\\u001b[2msetup_qiime2\u001b[0m\u001b]8;;\u001b\\\u001b[2m:\u001b[0m\u001b]8;id=269133;file:///content/materials/setup_qiime2#62\u001b\\\u001b[2m62\u001b[0m\u001b]8;;\u001b\\\n"
            ]
          },
          "metadata": {},
          "output_type": "display_data"
        },
        {
          "data": {
            "text/html": [
              "<pre style=\"white-space:pre;overflow-x:auto;line-height:normal;font-family:Menlo,'DejaVu Sans Mono',consolas,'Courier New',monospace\"><span style=\"color: #7fbfbf; text-decoration-color: #7fbfbf\">           </span>🧹 Cleaned up unneeded files.                                                            <a href=\"file:///content/materials/setup_qiime2\" target=\"_blank\"><span style=\"color: #7f7f7f; text-decoration-color: #7f7f7f\">setup_qiime2</span></a><span style=\"color: #7f7f7f; text-decoration-color: #7f7f7f\">:</span><a href=\"file:///content/materials/setup_qiime2#51\" target=\"_blank\"><span style=\"color: #7f7f7f; text-decoration-color: #7f7f7f\">51</span></a>\n",
              "</pre>\n"
            ],
            "text/plain": [
              "\u001b[2;36m          \u001b[0m\u001b[2;36m \u001b[0m🧹 Cleaned up unneeded files.                                                            \u001b]8;id=359838;file:///content/materials/setup_qiime2\u001b\\\u001b[2msetup_qiime2\u001b[0m\u001b]8;;\u001b\\\u001b[2m:\u001b[0m\u001b]8;id=409854;file:///content/materials/setup_qiime2#51\u001b\\\u001b[2m51\u001b[0m\u001b]8;;\u001b\\\n"
            ]
          },
          "metadata": {},
          "output_type": "display_data"
        },
        {
          "data": {
            "text/html": [
              "<pre style=\"white-space:pre;overflow-x:auto;line-height:normal;font-family:Menlo,'DejaVu Sans Mono',consolas,'Courier New',monospace\"><span style=\"color: #7fbfbf; text-decoration-color: #7fbfbf\">           </span><span style=\"color: #008000; text-decoration-color: #008000\">Everything is A-OK. You can start using Qiime </span><span style=\"color: #008000; text-decoration-color: #008000; font-weight: bold\">2</span><span style=\"color: #008000; text-decoration-color: #008000\"> now 👍</span>                                  <a href=\"file:///content/materials/setup_qiime2\" target=\"_blank\"><span style=\"color: #7f7f7f; text-decoration-color: #7f7f7f\">setup_qiime2</span></a><span style=\"color: #7f7f7f; text-decoration-color: #7f7f7f\">:</span><a href=\"file:///content/materials/setup_qiime2#159\" target=\"_blank\"><span style=\"color: #7f7f7f; text-decoration-color: #7f7f7f\">159</span></a>\n",
              "</pre>\n"
            ],
            "text/plain": [
              "\u001b[2;36m          \u001b[0m\u001b[2;36m \u001b[0m\u001b[32mEverything is A-OK. You can start using Qiime \u001b[0m\u001b[1;32m2\u001b[0m\u001b[32m now 👍\u001b[0m                                  \u001b]8;id=696541;file:///content/materials/setup_qiime2\u001b\\\u001b[2msetup_qiime2\u001b[0m\u001b]8;;\u001b\\\u001b[2m:\u001b[0m\u001b]8;id=313522;file:///content/materials/setup_qiime2#159\u001b\\\u001b[2m159\u001b[0m\u001b]8;;\u001b\\\n"
            ]
          },
          "metadata": {},
          "output_type": "display_data"
        }
      ],
      "source": [
        "%run setup_qiime2"
      ]
    },
    {
      "cell_type": "markdown",
      "metadata": {
        "id": "BGWsqUfq5oSi"
      },
      "source": [
        "## Our first QIIME 2 command\n",
        "\n",
        "Let's remember our workflow for today.\n",
        "\n",
        "![our workflow](https://github.com/Gibbons-Lab/isb_course_2021/raw/main/docs/16S/assets/steps.png)\n",
        "\n",
        "The first thing we have to do is to get the data into an artifact.\n",
        "We can import the data with the `import` action from the tools. For that we have to give\n",
        "QIIME 2 a *manifest* (list of raw files) and tell it what *type of data* we\n",
        "are importing and what *type of artifact* we want. \n",
        "\n",
        "**QoL Tip:** QIIME 2 commands can get very long. To split them up over several lines we can use `\\` which means \"continue on the next line\"."
      ]
    },
    {
      "cell_type": "code",
      "execution_count": null,
      "metadata": {
        "id": "6mGgUrRf5pyb"
      },
      "outputs": [],
      "source": [
        "# !qiime tools import \\\n",
        "#   --type 'SampleData[SequencesWithQuality]' \\\n",
        "#   --input-path data/manifest.tsv \\\n",
        "#   --output-path sequences.qza \\\n",
        "#   --input-format SingleEndFastqManifestPhred33V2"
      ]
    },
    {
      "cell_type": "code",
      "execution_count": null,
      "metadata": {
        "colab": {
          "base_uri": "https://localhost:8080/"
        },
        "id": "5TNM9iX6Qe0z",
        "outputId": "9466cabb-73ff-4b98-8809-d0c30c0a4e67"
      },
      "outputs": [
        {
          "name": "stdout",
          "output_type": "stream",
          "text": [
            "\u001b[32mImported data/manifest_pair_read.tsv as PairedEndFastqManifestPhred33V2 to pair_sequences.qza\u001b[0m\n"
          ]
        }
      ],
      "source": [
        "!qiime tools import \\\n",
        "  --type 'SampleData[PairedEndSequencesWithQuality]' \\\n",
        "  --input-path data/manifest_pair_read.tsv \\\n",
        "  --output-path pair_sequences.qza \\\n",
        "  --input-format PairedEndFastqManifestPhred33V2"
      ]
    },
    {
      "cell_type": "markdown",
      "metadata": {
        "id": "lw7TmzbiAoLj"
      },
      "source": [
        "Since we have quality information for the sequencing reads, let's also generate\n",
        "our first visualization to inspect sequence quality. \n",
        "\n",
        "---\n",
        "\n",
        "Qiime 2 commands can become pretty long. Here are some pointers to remember the\n",
        "structure of a command:\n",
        "\n",
        "```\n",
        "qiime plugin action --i-argument1 ... --o-argument2 ...\n",
        "```\n",
        "\n",
        "Argument types usually begin with a letter denoting their meaning:\n",
        "\n",
        "- `--i-...` = input files\n",
        "- `--o-...` = output files\n",
        "- `--p-...` = parameters\n",
        "- `--m-...` = metadata\n",
        "\n",
        "---\n",
        "\n",
        "In this case we will use the `summarize` action from the `demux` plugin with the previously generated artifact as input and output the resulting visualization to the `qualities.qzv` file."
      ]
    },
    {
      "cell_type": "code",
      "execution_count": null,
      "metadata": {
        "colab": {
          "base_uri": "https://localhost:8080/"
        },
        "id": "feGa41cEApGs",
        "outputId": "402635f0-9979-4ae7-c329-9dacdb47d7f7"
      },
      "outputs": [
        {
          "name": "stdout",
          "output_type": "stream",
          "text": [
            "\u001b[32mSaved Visualization to: qualities.qzv\u001b[0m\n"
          ]
        }
      ],
      "source": [
        "!qiime demux summarize --i-data pair_sequences.qza --o-visualization qualities.qzv"
      ]
    },
    {
      "cell_type": "markdown",
      "metadata": {
        "id": "O2GenFy3C8gu"
      },
      "source": [
        "You can view the plot by downloading the .qzv file and opening it using http://view.qiime2.org. To download the file click on the folder symbol to the left, open the `materials` folder, and choose download from the dot menu next to the `qualities.qzv` file.\n",
        "\n",
        "🤔 What do you observe across the read? Where would you truncate the reads?"
      ]
    },
    {
      "cell_type": "markdown",
      "metadata": {
        "id": "os5MeRvLIq0v"
      },
      "source": [
        "# Denoising amplicon sequence variants\n",
        "\n",
        "We will now run the DADA2 plugin which will do 3 things:\n",
        "\n",
        "1. filter and trim the reads\n",
        "2. find the most likely set of unique sequences in the sample (ASVs)\n",
        "3. remove chimeras\n",
        "4. count the abundances of each ASV\n",
        "\n",
        "\n",
        "Since this step takes a bit, let's start the process and use the time to\n",
        "understand what is happening:"
      ]
    },
    {
      "cell_type": "code",
      "execution_count": null,
      "metadata": {
        "id": "RdLSMp9-Dl-d"
      },
      "outputs": [],
      "source": [
        "# !qiime dada2 denoise-single \\\n",
        "#     --i-demultiplexed-seqs sequences.qza \\\n",
        "#     --p-trunc-len 140 \\\n",
        "#     --p-n-threads 2 \\\n",
        "#     --output-dir dada2 --verbose"
      ]
    },
    {
      "cell_type": "code",
      "execution_count": null,
      "metadata": {
        "colab": {
          "base_uri": "https://localhost:8080/"
        },
        "id": "NF-hsXEtRlB9",
        "outputId": "b9213abe-21d4-4f3b-ceea-573b2e6a5a5d"
      },
      "outputs": [
        {
          "name": "stdout",
          "output_type": "stream",
          "text": [
            "Usage: \u001b[34mqiime dada2 denoise-paired\u001b[0m \n",
            "           [OPTIONS]\n",
            "\n",
            "  This method denoises paired-end sequences,\n",
            "  dereplicates them, and filters chimeras.\n",
            "\n",
            "\u001b[1mInputs\u001b[0m:\n",
            "  \u001b[34m\u001b[4m--i-demultiplexed-seqs\u001b[0m ARTIFACT \u001b[32m\u001b[0m\n",
            "    \u001b[32mSampleData[PairedEndSequencesWithQuality]\u001b[0m\n",
            "                         The paired-end\n",
            "                         demultiplexed sequences\n",
            "                         to be denoised.\n",
            "                                        \u001b[35m[required]\u001b[0m\n",
            "\u001b[1mParameters\u001b[0m:\n",
            "  \u001b[34m\u001b[4m--p-trunc-len-f\u001b[0m INTEGER\n",
            "                         Position at which\n",
            "                         forward read sequences\n",
            "                         should be truncated due\n",
            "                         to decrease in quality.\n",
            "                         This truncates the 3' end\n",
            "                         of the of the input\n",
            "                         sequences, which will be\n",
            "                         the bases that were\n",
            "                         sequenced in the last\n",
            "                         cycles. Reads that are\n",
            "                         shorter than this value\n",
            "                         will be discarded. After\n",
            "                         this parameter is applied\n",
            "                         there must still be at\n",
            "                         least a 12 nucleotide\n",
            "                         overlap between the\n",
            "                         forward and reverse\n",
            "                         reads. If 0 is provided,\n",
            "                         no truncation or length\n",
            "                         filtering will be\n",
            "                         performed      \u001b[35m[required]\u001b[0m\n",
            "  \u001b[34m\u001b[4m--p-trunc-len-r\u001b[0m INTEGER\n",
            "                         Position at which\n",
            "                         reverse read sequences\n",
            "                         should be truncated due\n",
            "                         to decrease in quality.\n",
            "                         This truncates the 3' end\n",
            "                         of the of the input\n",
            "                         sequences, which will be\n",
            "                         the bases that were\n",
            "                         sequenced in the last\n",
            "                         cycles. Reads that are\n",
            "                         shorter than this value\n",
            "                         will be discarded. After\n",
            "                         this parameter is applied\n",
            "                         there must still be at\n",
            "                         least a 12 nucleotide\n",
            "                         overlap between the\n",
            "                         forward and reverse\n",
            "                         reads. If 0 is provided,\n",
            "                         no truncation or length\n",
            "                         filtering will be\n",
            "                         performed      \u001b[35m[required]\u001b[0m\n",
            "  \u001b[34m--p-trim-left-f\u001b[0m INTEGER\n",
            "                         Position at which\n",
            "                         forward read sequences\n",
            "                         should be trimmed due to\n",
            "                         low quality. This trims\n",
            "                         the 5' end of the input\n",
            "                         sequences, which will be\n",
            "                         the bases that were\n",
            "                         sequenced in the first\n",
            "                         cycles.      \u001b[35m[default: 0]\u001b[0m\n",
            "  \u001b[34m--p-trim-left-r\u001b[0m INTEGER\n",
            "                         Position at which\n",
            "                         reverse read sequences\n",
            "                         should be trimmed due to\n",
            "                         low quality. This trims\n",
            "                         the 5' end of the input\n",
            "                         sequences, which will be\n",
            "                         the bases that were\n",
            "                         sequenced in the first\n",
            "                         cycles.      \u001b[35m[default: 0]\u001b[0m\n",
            "  \u001b[34m--p-max-ee-f\u001b[0m NUMBER    Forward reads with\n",
            "                         number of expected errors\n",
            "                         higher than this value\n",
            "                         will be discarded.\n",
            "                                    \u001b[35m[default: 2.0]\u001b[0m\n",
            "  \u001b[34m--p-max-ee-r\u001b[0m NUMBER    Reverse reads with\n",
            "                         number of expected errors\n",
            "                         higher than this value\n",
            "                         will be discarded.\n",
            "                                    \u001b[35m[default: 2.0]\u001b[0m\n",
            "  \u001b[34m--p-trunc-q\u001b[0m INTEGER    Reads are truncated at\n",
            "                         the first instance of a\n",
            "                         quality score less than\n",
            "                         or equal to this value.\n",
            "                         If the resulting read is\n",
            "                         then shorter than\n",
            "                         `\u001b[4mtrunc-len-f\u001b[0m` or\n",
            "                         `\u001b[4mtrunc-len-r\u001b[0m` (depending\n",
            "                         on the direction of the\n",
            "                         read) it is discarded.\n",
            "                                      \u001b[35m[default: 2]\u001b[0m\n",
            "  \u001b[34m--p-min-overlap\u001b[0m INTEGER\n",
            "    \u001b[32mRange(4, None)\u001b[0m       The minimum length of\n",
            "                         the overlap required for\n",
            "                         merging the forward and\n",
            "                         reverse reads.\n",
            "                                     \u001b[35m[default: 12]\u001b[0m\n",
            "  \u001b[34m--p-pooling-method\u001b[0m TEXT \u001b[32mChoices('pseudo',\u001b[0m\n",
            "    \u001b[32m'independent')\u001b[0m       The method used to pool\n",
            "                         samples for denoising.\n",
            "                         \"independent\": Samples\n",
            "                         are denoised\n",
            "                         indpendently. \"pseudo\":\n",
            "                         The pseudo-pooling method\n",
            "                         is used to approximate\n",
            "                         pooling of samples. In\n",
            "                         short, samples are\n",
            "                         denoised independently\n",
            "                         once, ASVs detected in at\n",
            "                         least 2 samples are\n",
            "                         recorded, and samples are\n",
            "                         denoised independently a\n",
            "                         second time, but this\n",
            "                         time with prior knowledge\n",
            "                         of the recorded ASVs and\n",
            "                         thus higher sensitivity\n",
            "                         to those ASVs.\n",
            "                          \u001b[35m[default: 'independent']\u001b[0m\n",
            "  \u001b[34m--p-chimera-method\u001b[0m TEXT \u001b[32mChoices('pooled',\u001b[0m\n",
            "    \u001b[32m'none', 'consensus')\u001b[0m The method used to\n",
            "                         remove chimeras. \"none\":\n",
            "                         No chimera removal is\n",
            "                         performed. \"pooled\": All\n",
            "                         reads are pooled prior to\n",
            "                         chimera detection.\n",
            "                         \"consensus\": Chimeras are\n",
            "                         detected in samples\n",
            "                         individually, and\n",
            "                         sequences found chimeric\n",
            "                         in a sufficient fraction\n",
            "                         of samples are removed.\n",
            "                            \u001b[35m[default: 'consensus']\u001b[0m\n",
            "  \u001b[34m--p-min-fold-parent-over-abundance\u001b[0m NUMBER\n",
            "                         The minimum abundance of\n",
            "                         potential parents of a\n",
            "                         sequence being tested as\n",
            "                         chimeric, expressed as a\n",
            "                         fold-change versus the\n",
            "                         abundance of the sequence\n",
            "                         being tested. Values\n",
            "                         should be greater than or\n",
            "                         equal to 1 (i.e. parents\n",
            "                         should be more abundant\n",
            "                         than the sequence being\n",
            "                         tested). This parameter\n",
            "                         has no effect if\n",
            "                         \u001b[4mchimera-method\u001b[0m is \"none\".\n",
            "                                    \u001b[35m[default: 1.0]\u001b[0m\n",
            "  \u001b[34m--p-n-threads\u001b[0m INTEGER  The number of threads to\n",
            "                         use for multithreaded\n",
            "                         processing. If 0 is\n",
            "                         provided, all available\n",
            "                         cores will be used.\n",
            "                                      \u001b[35m[default: 1]\u001b[0m\n",
            "  \u001b[34m--p-n-reads-learn\u001b[0m INTEGER\n",
            "                         The number of reads to\n",
            "                         use when training the\n",
            "                         error model. Smaller\n",
            "                         numbers will result in a\n",
            "                         shorter run time but a\n",
            "                         less reliable error\n",
            "                         model. \u001b[35m[default: 1000000]\u001b[0m\n",
            "  \u001b[34m--p-hashed-feature-ids\u001b[0m /\n",
            "  \u001b[34m--p-no-hashed-feature-ids\u001b[0m\n",
            "                         If true, the feature ids\n",
            "                         in the resulting table\n",
            "                         will be presented as\n",
            "                         hashes of the sequences\n",
            "                         defining each feature.\n",
            "                         The hash will always be\n",
            "                         the same for the same\n",
            "                         sequence so this allows\n",
            "                         feature tables to be\n",
            "                         merged across runs of\n",
            "                         this method. You should\n",
            "                         only merge tables if the\n",
            "                         exact same parameters are\n",
            "                         used for each run.\n",
            "                                   \u001b[35m[default: True]\u001b[0m\n",
            "\u001b[1mOutputs\u001b[0m:\n",
            "  \u001b[34m\u001b[4m--o-table\u001b[0m ARTIFACT \u001b[32mFeatureTable[Frequency]\u001b[0m\n",
            "                         The resulting feature\n",
            "                         table.         \u001b[35m[required]\u001b[0m\n",
            "  \u001b[34m\u001b[4m--o-representative-sequences\u001b[0m ARTIFACT \u001b[32m\u001b[0m\n",
            "    \u001b[32mFeatureData[Sequence]\u001b[0m\n",
            "                         The resulting feature\n",
            "                         sequences. Each feature\n",
            "                         in the feature table will\n",
            "                         be represented by exactly\n",
            "                         one sequence, and these\n",
            "                         sequences will be the\n",
            "                         joined paired-end\n",
            "                         sequences.     \u001b[35m[required]\u001b[0m\n",
            "  \u001b[34m\u001b[4m--o-denoising-stats\u001b[0m ARTIFACT \u001b[32m\u001b[0m\n",
            "    \u001b[32mSampleData[DADA2Stats]\u001b[0m\n",
            "                                        \u001b[35m[required]\u001b[0m\n",
            "\u001b[1mMiscellaneous\u001b[0m:\n",
            "  \u001b[34m--output-dir\u001b[0m PATH      Output unspecified\n",
            "                         results to a directory\n",
            "  \u001b[34m--verbose\u001b[0m / \u001b[34m--quiet\u001b[0m    Display verbose output\n",
            "                         to stdout and/or stderr\n",
            "                         during execution of this\n",
            "                         action. Or silence output\n",
            "                         if execution is\n",
            "                         successful (silence is\n",
            "                         golden).\n",
            "  \u001b[34m--examples\u001b[0m             Show usage examples and\n",
            "                         exit.\n",
            "  \u001b[34m--citations\u001b[0m            Show citations and exit.\n",
            "  \u001b[34m--help\u001b[0m                 Show this message and\n",
            "                         exit.\n",
            "\n",
            "\u001b[33m                  There were some problems with the command:                  \u001b[0m\n",
            "\u001b[31m\u001b[1m (1/4) Invalid value for '--output-dir': 'dada2' already exists, will not\n",
            "  overwrite.\u001b[0m\n",
            "\u001b[31m\u001b[1m (2/4) Missing option '--o-table'.  (\"--output-dir\" may also be used)\u001b[0m\n",
            "\u001b[31m\u001b[1m (3/4) Missing option '--o-representative-sequences'.  (\"--output-dir\" may\n",
            "  also be used)\u001b[0m\n",
            "\u001b[31m\u001b[1m (4/4) Missing option '--o-denoising-stats'.  (\"--output-dir\" may also be\n",
            "  used)\u001b[0m\n"
          ]
        }
      ],
      "source": [
        "!qiime dada2 denoise-paired \\\n",
        "    --i-demultiplexed-seqs pair_sequences.qza \\\n",
        "    --p-trunc-len-f 0 \\\n",
        "    --p-trunc-len-r 0\\\n",
        "    --p-n-threads 2 \\\n",
        "    --output-dir dada2 --verbose"
      ]
    },
    {
      "cell_type": "markdown",
      "metadata": {
        "id": "aFpQQ5GHdbzX"
      },
      "source": [
        "If this step takes too long or fails, you can also copy the results from the treasure chest. **However, don't run the next cell if the previous cell completed successfully.**"
      ]
    },
    {
      "cell_type": "code",
      "execution_count": null,
      "metadata": {
        "id": "PFrfo-uCdoRz"
      },
      "outputs": [],
      "source": [
        "# obscure magic that will only copy if the previous command failed\n",
        "# ![ -d dada2 ] || cp -r treasure_chest/dada2 ."
      ]
    },
    {
      "cell_type": "markdown",
      "metadata": {
        "id": "4YzrovxVj7U_"
      },
      "source": [
        "Ok, this step ran, but we should also make sure it kind of worked. One good way to tell if the identified ASVs are representative of the sample is to see how many reads were maintained throughout the pipeline. Here, the most common issues and solutions are:\n",
        "\n",
        "**Large fraction of reads is lost during merging (only paired-end)**\n",
        "\n",
        "![read overlap](https://gibbons-lab.github.io/isb_course_2020/16S/assets/read_overlap.png)\n",
        "\n",
        "In order to merge ASVs DADA2 uses an overlap of 12 bases between forward and reverse reads by default. Thus, your reads must allow for sufficient overlap *after* trimming. So if your amplified region is 450bp long and you have 2x250bp reads and you trim the last 30 bases of each read, truncating the length to 220bp, the total length of covered sequence is 2x220 = 440 which is shorter than 450bp so there will be no overlap. To solve this issue trim less of the reads or adjust the `--p-min-overlap` parameters to something lower (but not too low).\n",
        "\n",
        "<br>\n",
        "\n",
        "**Most of the reads are lost as chimeric**\n",
        "\n",
        "![read overlap](https://gibbons-lab.github.io/isb_course_2020/16S/assets/chimera.png)\n",
        "\n",
        "This is usualluy an experimental issue as chimeras are introduced during amplification. If you can adjust your PCR, try to run fewer cycles. Chimeras can also be introduced by incorrect merging. If your minimum overlap is too small ASVs may be merged randomly. Possible fixes are to increase the `--p-min-overlap` parameter or run the analysis on the forward reads only (in our empirical observations, chimeras are more likely to be introduced in the joined reads). *However, losing between 5-25% of your reads to chimeras is normal and does not require any adjustments.*\n",
        "\n",
        "Our denoising stats are contained in an artifact. To convert it to a visualization we can use `qiime metadata tabulate`."
      ]
    },
    {
      "cell_type": "code",
      "execution_count": null,
      "metadata": {
        "colab": {
          "base_uri": "https://localhost:8080/"
        },
        "id": "n_Tr3Ujcj61w",
        "outputId": "ff0f1bde-0fd0-4ad3-b8ba-4bf16bd25558"
      },
      "outputs": [
        {
          "name": "stdout",
          "output_type": "stream",
          "text": [
            "\u001b[32mSaved Visualization to: dada2/denoising-stats.qzv\u001b[0m\n"
          ]
        }
      ],
      "source": [
        "!qiime metadata tabulate \\\n",
        "    --m-input-file dada2/denoising_stats.qza \\\n",
        "    --o-visualization dada2/denoising-stats.qzv"
      ]
    },
    {
      "cell_type": "markdown",
      "metadata": {
        "id": "o75g7DSO2tu5"
      },
      "source": [
        "What proprotion of reads was retained throughout the entire pipeline? Look at the final number of used reads (non-chimeric). What do you observe when comparing those values between samples and how might that affect diversity metrics?"
      ]
    },
    {
      "cell_type": "markdown",
      "metadata": {
        "id": "c0ZV3_sGQ20u"
      },
      "source": [
        "# Phylogeny and diversity"
      ]
    },
    {
      "cell_type": "markdown",
      "metadata": {
        "id": "aEit8p7V9Ht9"
      },
      "source": [
        "## Building a tree\n",
        "\n",
        "We can build a phylogenetic tree for our sequences using the following command:"
      ]
    },
    {
      "cell_type": "code",
      "execution_count": null,
      "metadata": {
        "colab": {
          "base_uri": "https://localhost:8080/"
        },
        "id": "2PVNlD0g9MsX",
        "outputId": "df4bf59f-0a59-42a8-8846-5fbad03e1c88"
      },
      "outputs": [
        {
          "name": "stdout",
          "output_type": "stream",
          "text": [
            "Usage: \u001b[34mqiime phylogeny align-to-tree-mafft-fasttree\u001b[0m \n",
            "           [OPTIONS]\n",
            "\n",
            "  This pipeline will start by creating a\n",
            "  sequence alignment using MAFFT, after which\n",
            "  any alignment columns that are\n",
            "  phylogenetically uninformative or ambiguously\n",
            "  aligned will be removed (masked). The\n",
            "  resulting masked alignment will be used to\n",
            "  infer a phylogenetic tree and then\n",
            "  subsequently rooted at its midpoint. Output\n",
            "  files from each step of the pipeline will be\n",
            "  saved. This includes both the unmasked and\n",
            "  masked MAFFT alignment from q2-alignment\n",
            "  methods, and both the rooted and unrooted\n",
            "  phylogenies from q2-phylogeny methods.\n",
            "\n",
            "\u001b[1mInputs\u001b[0m:\n",
            "  \u001b[34m\u001b[4m--i-sequences\u001b[0m ARTIFACT \u001b[32mFeatureData[Sequence]\u001b[0m\n",
            "                          The sequences to be\n",
            "                          used for creating a\n",
            "                          fasttree based rooted\n",
            "                          phylogenetic tree.\n",
            "                                        \u001b[35m[required]\u001b[0m\n",
            "\u001b[1mParameters\u001b[0m:\n",
            "  \u001b[34m--p-n-threads\u001b[0m VALUE \u001b[32mInt % Range(1, None) |\u001b[0m\n",
            "    \u001b[32mStr % Choices('auto')\u001b[0m The number of threads.\n",
            "                          (Use `auto` to\n",
            "                          automatically use all\n",
            "                          available cores) This\n",
            "                          value is used when\n",
            "                          aligning the sequences\n",
            "                          and creating the tree\n",
            "                          with fasttree.\n",
            "                                      \u001b[35m[default: 1]\u001b[0m\n",
            "  \u001b[34m--p-mask-max-gap-frequency\u001b[0m PROPORTION \u001b[32m\u001b[0m\n",
            "    \u001b[32mRange(0, 1, inclusive_end=True)\u001b[0m\n",
            "                          The maximum relative\n",
            "                          frequency of gap\n",
            "                          characters in a column\n",
            "                          for the column to be\n",
            "                          retained. This relative\n",
            "                          frequency must be a\n",
            "                          number between 0.0 and\n",
            "                          1.0 (inclusive), where\n",
            "                          0.0 retains only those\n",
            "                          columns without gap\n",
            "                          characters, and 1.0\n",
            "                          retains all columns \n",
            "                          regardless of gap\n",
            "                          character frequency.\n",
            "                          This value is used when\n",
            "                          masking the aligned\n",
            "                          sequences.\n",
            "                                    \u001b[35m[default: 1.0]\u001b[0m\n",
            "  \u001b[34m--p-mask-min-conservation\u001b[0m PROPORTION \u001b[32mRange(0,\u001b[0m\n",
            "    \u001b[32m1, inclusive_end=True)\u001b[0m\n",
            "                          The minimum relative\n",
            "                          frequency of at least\n",
            "                          one non-gap character in\n",
            "                          a column for that column\n",
            "                          to be retained. This\n",
            "                          relative frequency must\n",
            "                          be a number between 0.0\n",
            "                          and 1.0 (inclusive). For\n",
            "                          example, if a value of \n",
            "                          0.4 is provided, a\n",
            "                          column will only be\n",
            "                          retained  if it contains\n",
            "                          at least one character\n",
            "                          that is present in at\n",
            "                          least 40% of the\n",
            "                          sequences. This value is\n",
            "                          used when masking the\n",
            "                          aligned sequences.\n",
            "                                    \u001b[35m[default: 0.4]\u001b[0m\n",
            "  \u001b[34m--p-parttree\u001b[0m / \u001b[34m--p-no-parttree\u001b[0m\n",
            "                          This flag is required\n",
            "                          if the number of\n",
            "                          sequences being aligned\n",
            "                          are larger than 1000000.\n",
            "                          Disabled by default.\n",
            "                                  \u001b[35m[default: False]\u001b[0m\n",
            "\u001b[1mOutputs\u001b[0m:\n",
            "  \u001b[34m\u001b[4m--o-alignment\u001b[0m ARTIFACT \u001b[32m\u001b[0m\n",
            "    \u001b[32mFeatureData[AlignedSequence]\u001b[0m\n",
            "                          The aligned sequences.\n",
            "                                        \u001b[35m[required]\u001b[0m\n",
            "  \u001b[34m\u001b[4m--o-masked-alignment\u001b[0m ARTIFACT \u001b[32m\u001b[0m\n",
            "    \u001b[32mFeatureData[AlignedSequence]\u001b[0m\n",
            "                          The masked alignment.\n",
            "                                        \u001b[35m[required]\u001b[0m\n",
            "  \u001b[34m\u001b[4m--o-tree\u001b[0m ARTIFACT       The unrooted\n",
            "    \u001b[32mPhylogeny[Unrooted]\u001b[0m   phylogenetic tree.\n",
            "                                        \u001b[35m[required]\u001b[0m\n",
            "  \u001b[34m\u001b[4m--o-rooted-tree\u001b[0m ARTIFACT\n",
            "    \u001b[32mPhylogeny[Rooted]\u001b[0m     The rooted phylogenetic\n",
            "                          tree.         \u001b[35m[required]\u001b[0m\n",
            "\u001b[1mMiscellaneous\u001b[0m:\n",
            "  \u001b[34m--output-dir\u001b[0m PATH       Output unspecified\n",
            "                          results to a directory\n",
            "  \u001b[34m--verbose\u001b[0m / \u001b[34m--quiet\u001b[0m     Display verbose output\n",
            "                          to stdout and/or stderr\n",
            "                          during execution of this\n",
            "                          action. Or silence\n",
            "                          output if execution is\n",
            "                          successful (silence is\n",
            "                          golden).\n",
            "  \u001b[34m--examples\u001b[0m              Show usage examples and\n",
            "                          exit.\n",
            "  \u001b[34m--citations\u001b[0m             Show citations and\n",
            "                          exit.\n",
            "  \u001b[34m--help\u001b[0m                  Show this message and\n",
            "                          exit.\n",
            "\n",
            "\u001b[33m                  There were some problems with the command:                  \u001b[0m\n",
            "\u001b[31m\u001b[1m (1/5) Invalid value for '--output-dir': 'tree' already exists, will not\n",
            "  overwrite.\u001b[0m\n",
            "\u001b[31m\u001b[1m (2/5) Missing option '--o-alignment'.  (\"--output-dir\" may also be used)\u001b[0m\n",
            "\u001b[31m\u001b[1m (3/5) Missing option '--o-masked-alignment'.  (\"--output-dir\" may also be\n",
            "  used)\u001b[0m\n",
            "\u001b[31m\u001b[1m (4/5) Missing option '--o-tree'.  (\"--output-dir\" may also be used)\u001b[0m\n",
            "\u001b[31m\u001b[1m (5/5) Missing option '--o-rooted-tree'.  (\"--output-dir\" may also be used)\u001b[0m\n"
          ]
        }
      ],
      "source": [
        "!qiime phylogeny align-to-tree-mafft-fasttree \\\n",
        "    --i-sequences dada2/representative_sequences.qza \\\n",
        "    --output-dir tree"
      ]
    },
    {
      "cell_type": "markdown",
      "metadata": {
        "id": "4lB8NI0IiJgk"
      },
      "source": [
        "We can create a visualization for the tree using the [empress](https://github.com/biocore/empress) Qiime 2 plugin."
      ]
    },
    {
      "cell_type": "code",
      "execution_count": null,
      "metadata": {
        "colab": {
          "base_uri": "https://localhost:8080/"
        },
        "id": "cSS_y3Kligrc",
        "outputId": "0a656b36-6a85-4179-e8e4-2497cf05ac0c"
      },
      "outputs": [
        {
          "name": "stdout",
          "output_type": "stream",
          "text": [
            "\u001b[32mSaved Visualization to: tree/empress.qzv\u001b[0m\n"
          ]
        }
      ],
      "source": [
        "!qiime empress tree-plot \\\n",
        "    --i-tree tree/rooted_tree.qza \\\n",
        "    --o-visualization tree/empress.qzv"
      ]
    },
    {
      "cell_type": "markdown",
      "metadata": {
        "id": "UmxTRou99a_n"
      },
      "source": [
        "This looks nice but is not particularly informative as is. The main utility of our tree will be in complementing our diversity analyses. It will tell us which ASVs are more or less related to one another, which will allow us to calculate different kinds of ecological diversity metrics.\n",
        "\n",
        "## Alpha and Beta Diversity\n",
        "\n",
        "![sample sources](https://github.com/Gibbons-Lab/isb_course_2021/raw/main/docs/16S/assets/sample_sources.png)\n",
        "\n",
        "One of our main goals will be to compare the microbial composition from different environments. Qiime 2 has \"run-all\" command for diversity analyses. This will\n",
        "\n",
        "1. Subsampe our samples to the same total number of reads (Why?) \n",
        "2. Calculate alpha and beta diversity measures\n",
        "3. Visualize PCoA projections"
      ]
    },
    {
      "cell_type": "code",
      "execution_count": null,
      "metadata": {
        "id": "jXm8gvfSVfG-"
      },
      "outputs": [],
      "source": [
        "# !qiime dada2 align-to-tree-mafft-fasttree \\\n",
        "#     --i-sequences dada2/table.qza \\\n",
        "#     --output-dir tree\n",
        "\n",
        "# !qiime demux summarize --i-data dada2/table.qza --o-visualization table_table.qzv"
      ]
    },
    {
      "cell_type": "code",
      "execution_count": null,
      "metadata": {
        "colab": {
          "background_save": true,
          "base_uri": "https://localhost:8080/"
        },
        "id": "0js6xHuw-NqF",
        "outputId": "3dda4692-b434-4b52-ec91-15c07469f662"
      },
      "outputs": [
        {
          "name": "stdout",
          "output_type": "stream",
          "text": [
            "Usage: \u001b[34mqiime diversity core-metrics-phylogenetic\u001b[0m \n",
            "           [OPTIONS]\n",
            "\n",
            "  Applies a collection of diversity metrics\n",
            "  (both phylogenetic and non-phylogenetic) to a\n",
            "  feature table.\n",
            "\n",
            "\u001b[1mInputs\u001b[0m:\n",
            "  \u001b[34m\u001b[4m--i-table\u001b[0m ARTIFACT \u001b[32mFeatureTable[Frequency]\u001b[0m\n",
            "                          The feature table\n",
            "                          containing the samples\n",
            "                          over which diversity\n",
            "                          metrics should be\n",
            "                          computed.     \u001b[35m[required]\u001b[0m\n",
            "  \u001b[34m\u001b[4m--i-phylogeny\u001b[0m ARTIFACT  Phylogenetic tree\n",
            "    \u001b[32mPhylogeny[Rooted]\u001b[0m     containing tip\n",
            "                          identifiers that\n",
            "                          correspond to the\n",
            "                          feature identifiers in\n",
            "                          the table. This tree can\n",
            "                          contain tip ids that are\n",
            "                          not present in the\n",
            "                          table, but all feature\n",
            "                          ids in the table must be\n",
            "                          present in this tree.\n",
            "                                        \u001b[35m[required]\u001b[0m\n",
            "\u001b[1mParameters\u001b[0m:\n",
            "  \u001b[34m\u001b[4m--p-sampling-depth\u001b[0m INTEGER\n",
            "    \u001b[32mRange(1, None)\u001b[0m        The total frequency\n",
            "                          that each sample should\n",
            "                          be rarefied to prior to\n",
            "                          computing diversity\n",
            "                          metrics.      \u001b[35m[required]\u001b[0m\n",
            "  \u001b[34m\u001b[4m--m-metadata-file\u001b[0m METADATA...\n",
            "    (multiple arguments   The sample metadata to\n",
            "     will be merged)      use in the emperor\n",
            "                          plots.        \u001b[35m[required]\u001b[0m\n",
            "  \u001b[34m--p-n-jobs-or-threads\u001b[0m VALUE \u001b[32mInt % Range(1,\u001b[0m\n",
            "    \u001b[32mNone) | Str % Choices('auto')\u001b[0m\n",
            "                          [beta/beta-phylogenetic\n",
            "                          methods only] - The\n",
            "                          number of concurrent\n",
            "                          jobs or CPU threads to\n",
            "                          use in performing this\n",
            "                          calculation. Individual\n",
            "                          methods will create\n",
            "                          jobs/threads as\n",
            "                          implemented in\n",
            "                          q2-diversity-lib\n",
            "                          dependencies. May not\n",
            "                          exceed the number of\n",
            "                          available physical\n",
            "                          cores. If\n",
            "                          \u001b[4mn-jobs-or-threads\u001b[0m =\n",
            "                          'auto', one thread/job\n",
            "                          will be created for each\n",
            "                          identified CPU core on\n",
            "                          the host.   \u001b[35m[default: 1]\u001b[0m\n",
            "\u001b[1mOutputs\u001b[0m:\n",
            "  \u001b[34m\u001b[4m--o-rarefied-table\u001b[0m ARTIFACT \u001b[32m\u001b[0m\n",
            "    \u001b[32mFeatureTable[Frequency]\u001b[0m\n",
            "                          The resulting rarefied\n",
            "                          feature table.\n",
            "                                        \u001b[35m[required]\u001b[0m\n",
            "  \u001b[34m\u001b[4m--o-faith-pd-vector\u001b[0m ARTIFACT \u001b[32m\u001b[0m\n",
            "    \u001b[32mSampleData[AlphaDiversity]\u001b[0m\n",
            "                          Vector of Faith PD\n",
            "                          values by sample.\n",
            "                                        \u001b[35m[required]\u001b[0m\n",
            "  \u001b[34m\u001b[4m--o-observed-features-vector\u001b[0m ARTIFACT \u001b[32m\u001b[0m\n",
            "    \u001b[32mSampleData[AlphaDiversity]\u001b[0m\n",
            "                          Vector of Observed\n",
            "                          Features values by\n",
            "                          sample.       \u001b[35m[required]\u001b[0m\n",
            "  \u001b[34m\u001b[4m--o-shannon-vector\u001b[0m ARTIFACT \u001b[32m\u001b[0m\n",
            "    \u001b[32mSampleData[AlphaDiversity]\u001b[0m\n",
            "                          Vector of Shannon\n",
            "                          diversity values by\n",
            "                          sample.       \u001b[35m[required]\u001b[0m\n",
            "  \u001b[34m\u001b[4m--o-evenness-vector\u001b[0m ARTIFACT \u001b[32m\u001b[0m\n",
            "    \u001b[32mSampleData[AlphaDiversity]\u001b[0m\n",
            "                          Vector of Pielou's\n",
            "                          evenness values by\n",
            "                          sample.       \u001b[35m[required]\u001b[0m\n",
            "  \u001b[34m\u001b[4m--o-unweighted-unifrac-distance-matrix\u001b[0m ARTIFACT\n",
            "    \u001b[32mDistanceMatrix\u001b[0m        Matrix of unweighted\n",
            "                          UniFrac distances\n",
            "                          between pairs of\n",
            "                          samples.      \u001b[35m[required]\u001b[0m\n",
            "  \u001b[34m\u001b[4m--o-weighted-unifrac-distance-matrix\u001b[0m ARTIFACT\n",
            "    \u001b[32mDistanceMatrix\u001b[0m        Matrix of weighted\n",
            "                          UniFrac distances\n",
            "                          between pairs of\n",
            "                          samples.      \u001b[35m[required]\u001b[0m\n",
            "  \u001b[34m\u001b[4m--o-jaccard-distance-matrix\u001b[0m ARTIFACT\n",
            "    \u001b[32mDistanceMatrix\u001b[0m        Matrix of Jaccard\n",
            "                          distances between pairs\n",
            "                          of samples.   \u001b[35m[required]\u001b[0m\n",
            "  \u001b[34m\u001b[4m--o-bray-curtis-distance-matrix\u001b[0m ARTIFACT\n",
            "    \u001b[32mDistanceMatrix\u001b[0m        Matrix of Bray-Curtis\n",
            "                          distances between pairs\n",
            "                          of samples.   \u001b[35m[required]\u001b[0m\n",
            "  \u001b[34m\u001b[4m--o-unweighted-unifrac-pcoa-results\u001b[0m ARTIFACT\n",
            "    \u001b[32mPCoAResults\u001b[0m           PCoA matrix computed\n",
            "                          from unweighted UniFrac\n",
            "                          distances between\n",
            "                          samples.      \u001b[35m[required]\u001b[0m\n",
            "  \u001b[34m\u001b[4m--o-weighted-unifrac-pcoa-results\u001b[0m ARTIFACT\n",
            "    \u001b[32mPCoAResults\u001b[0m           PCoA matrix computed\n",
            "                          from weighted UniFrac\n",
            "                          distances between\n",
            "                          samples.      \u001b[35m[required]\u001b[0m\n",
            "  \u001b[34m\u001b[4m--o-jaccard-pcoa-results\u001b[0m ARTIFACT\n",
            "    \u001b[32mPCoAResults\u001b[0m           PCoA matrix computed\n",
            "                          from Jaccard distances\n",
            "                          between samples.\n",
            "                                        \u001b[35m[required]\u001b[0m\n",
            "  \u001b[34m\u001b[4m--o-bray-curtis-pcoa-results\u001b[0m ARTIFACT\n",
            "    \u001b[32mPCoAResults\u001b[0m           PCoA matrix computed\n",
            "                          from Bray-Curtis\n",
            "                          distances between\n",
            "                          samples.      \u001b[35m[required]\u001b[0m\n",
            "  \u001b[34m\u001b[4m--o-unweighted-unifrac-emperor\u001b[0m VISUALIZATION\n",
            "                          Emperor plot of the\n",
            "                          PCoA matrix computed\n",
            "                          from unweighted UniFrac.\n",
            "                                        \u001b[35m[required]\u001b[0m\n",
            "  \u001b[34m\u001b[4m--o-weighted-unifrac-emperor\u001b[0m VISUALIZATION\n",
            "                          Emperor plot of the\n",
            "                          PCoA matrix computed\n",
            "                          from weighted UniFrac.\n",
            "                                        \u001b[35m[required]\u001b[0m\n",
            "  \u001b[34m\u001b[4m--o-jaccard-emperor\u001b[0m VISUALIZATION\n",
            "                          Emperor plot of the\n",
            "                          PCoA matrix computed\n",
            "                          from Jaccard. \u001b[35m[required]\u001b[0m\n",
            "  \u001b[34m\u001b[4m--o-bray-curtis-emperor\u001b[0m VISUALIZATION\n",
            "                          Emperor plot of the\n",
            "                          PCoA matrix computed\n",
            "                          from Bray-Curtis.\n",
            "                                        \u001b[35m[required]\u001b[0m\n",
            "\u001b[1mMiscellaneous\u001b[0m:\n",
            "  \u001b[34m--output-dir\u001b[0m PATH       Output unspecified\n",
            "                          results to a directory\n",
            "  \u001b[34m--verbose\u001b[0m / \u001b[34m--quiet\u001b[0m     Display verbose output\n",
            "                          to stdout and/or stderr\n",
            "                          during execution of this\n",
            "                          action. Or silence\n",
            "                          output if execution is\n",
            "                          successful (silence is\n",
            "                          golden).\n",
            "  \u001b[34m--examples\u001b[0m              Show usage examples and\n",
            "                          exit.\n",
            "  \u001b[34m--citations\u001b[0m             Show citations and\n",
            "                          exit.\n",
            "  \u001b[34m--help\u001b[0m                  Show this message and\n",
            "                          exit.\n",
            "\n",
            "\u001b[33m                  There were some problems with the command:                  \u001b[0m\n",
            "\u001b[31m\u001b[1m (1/18) Invalid value for '--output-dir': 'diversity' already exists, will not\n",
            "  overwrite.\u001b[0m\n",
            "\u001b[31m\u001b[1m (2/18) Missing option '--o-rarefied-table'.  (\"--output-dir\" may also be\n",
            "  used)\u001b[0m\n",
            "\u001b[31m\u001b[1m (3/18) Missing option '--o-faith-pd-vector'.  (\"--output-dir\" may also be\n",
            "  used)\u001b[0m\n",
            "\u001b[31m\u001b[1m (4/18) Missing option '--o-observed-features-vector'.  (\"--output-dir\" may\n",
            "  also be used)\u001b[0m\n",
            "\u001b[31m\u001b[1m (5/18) Missing option '--o-shannon-vector'.  (\"--output-dir\" may also be\n",
            "  used)\u001b[0m\n",
            "\u001b[31m\u001b[1m (6/18) Missing option '--o-evenness-vector'.  (\"--output-dir\" may also be\n",
            "  used)\u001b[0m\n",
            "\u001b[31m\u001b[1m (7/18) Missing option '--o-unweighted-unifrac-distance-matrix'.  (\"--output-\n",
            "  dir\" may also be used)\u001b[0m\n",
            "\u001b[31m\u001b[1m (8/18) Missing option '--o-weighted-unifrac-distance-matrix'.  (\"--output-\n",
            "  dir\" may also be used)\u001b[0m\n",
            "\u001b[31m\u001b[1m (9/18) Missing option '--o-jaccard-distance-matrix'.  (\"--output-dir\" may\n",
            "  also be used)\u001b[0m\n",
            "\u001b[31m\u001b[1m (10/18) Missing option '--o-bray-curtis-distance-matrix'.  (\"--output-dir\"\n",
            "  may also be used)\u001b[0m\n",
            "\u001b[31m\u001b[1m (11/18) Missing option '--o-unweighted-unifrac-pcoa-results'.  (\"--output-\n",
            "  dir\" may also be used)\u001b[0m\n",
            "\u001b[31m\u001b[1m (12/18) Missing option '--o-weighted-unifrac-pcoa-results'.  (\"--output-dir\"\n",
            "  may also be used)\u001b[0m\n",
            "\u001b[31m\u001b[1m (13/18) Missing option '--o-jaccard-pcoa-results'.  (\"--output-dir\" may also\n",
            "  be used)\u001b[0m\n",
            "\u001b[31m\u001b[1m (14/18) Missing option '--o-bray-curtis-pcoa-results'.  (\"--output-dir\" may\n",
            "  also be used)\u001b[0m\n",
            "\u001b[31m\u001b[1m (15/18) Missing option '--o-unweighted-unifrac-emperor'.  (\"--output-dir\" may\n",
            "  also be used)\u001b[0m\n",
            "\u001b[31m\u001b[1m (16/18) Missing option '--o-weighted-unifrac-emperor'.  (\"--output-dir\" may\n",
            "  also be used)\u001b[0m\n",
            "\u001b[31m\u001b[1m (17/18) Missing option '--o-jaccard-emperor'.  (\"--output-dir\" may also be\n",
            "  used)\u001b[0m\n",
            "\u001b[31m\u001b[1m (18/18) Missing option '--o-bray-curtis-emperor'.  (\"--output-dir\" may also\n",
            "  be used)\u001b[0m\n"
          ]
        }
      ],
      "source": [
        "!qiime diversity core-metrics-phylogenetic \\\n",
        "    --i-table dada2/table.qza \\\n",
        "    --i-phylogeny tree/rooted_tree.qza \\\n",
        "    --p-sampling-depth 240 \\\n",
        "    --m-metadata-file data/metadata.tsv \\\n",
        "    --output-dir diversity"
      ]
    },
    {
      "cell_type": "markdown",
      "metadata": {
        "id": "p-uZBNVX-y2L"
      },
      "source": [
        "## Statistical analyses\n",
        "\n",
        "Let's first have a look at alpha diversity. Can we see a difference in the per-sample diversity across environments? And between animal-asociated and free-living communities?"
      ]
    },
    {
      "cell_type": "code",
      "execution_count": null,
      "metadata": {
        "colab": {
          "background_save": true,
          "base_uri": "https://localhost:8080/"
        },
        "id": "GnkeX6iY--g-",
        "outputId": "4cee931e-5bc1-411e-cdfc-599c08e3ac70"
      },
      "outputs": [
        {
          "name": "stdout",
          "output_type": "stream",
          "text": [
            "\u001b[32mSaved Visualization to: diversity/alpha_groups.qzv\u001b[0m\n"
          ]
        }
      ],
      "source": [
        "!qiime diversity alpha-group-significance \\\n",
        "    --i-alpha-diversity diversity/shannon_vector.qza \\\n",
        "    --m-metadata-file data/metadata.tsv \\\n",
        "    --o-visualization diversity/alpha_groups.qzv"
      ]
    },
    {
      "cell_type": "markdown",
      "metadata": {
        "id": "ngH5fUeDQMO0"
      },
      "source": [
        "Now, let's use beta diversity to see how different the samples are from one another. First download `diversity/weighted_unifrac_emperor.qzv` and take a look. Do samples separate based on the environment?\n",
        "\n",
        "We can check whether that separation is 'significant' by using a PERMANOVA test."
      ]
    },
    {
      "cell_type": "code",
      "execution_count": null,
      "metadata": {
        "colab": {
          "background_save": true
        },
        "id": "KzNW92riQguX",
        "outputId": "22469e94-0c55-49db-e6b3-f9f17f3d7458"
      },
      "outputs": [
        {
          "name": "stdout",
          "output_type": "stream",
          "text": [
            "\u001b[32mSaved Visualization to: diversity/permanova.qzv\u001b[0m\n"
          ]
        }
      ],
      "source": [
        "!qiime diversity adonis \\\n",
        "    --i-distance-matrix diversity/weighted_unifrac_distance_matrix.qza \\\n",
        "    --m-metadata-file data/metadata.tsv \\\n",
        "    --p-formula \"Responses\" \\\n",
        "    --p-n-jobs 2 \\\n",
        "    --o-visualization diversity/permanova.qzv"
      ]
    },
    {
      "cell_type": "markdown",
      "metadata": {
        "id": "FB7WYPZ1DEoR"
      },
      "source": [
        "# Taxonomy\n",
        "\n",
        "We will use a Bayes classifier trained on the GreenGenes database which can be downloaded from https://docs.qiime2.org/2021.4/data-resources/."
      ]
    },
    {
      "cell_type": "code",
      "execution_count": null,
      "metadata": {
        "colab": {
          "background_save": true
        },
        "id": "9ratTaebibfd"
      },
      "outputs": [],
      "source": [
        "# ! wget https://data.qiime2.org/2022.2/common/silva-138-99-nb-classifier.qza\n",
        "# ! wget wget\\\n",
        "#   -O \"85_otu_taxonomy.txt\" \\\n",
        "#   \"https://data.qiime2.org/2021.4/tutorials/training-feature-classifiers/85_otu_taxonomy.txt\""
      ]
    },
    {
      "cell_type": "code",
      "execution_count": null,
      "metadata": {
        "colab": {
          "background_save": true
        },
        "id": "drgYtfLbDosv"
      },
      "outputs": [],
      "source": [
        "# # !wget https://data.qiime2.org/2021.8/common/gg-13-8-99-515-806-nb-classifier.qza\n",
        "# !wget wget \\\n",
        "#   -O \"85_otu_taxonomy.txt\" \\\n",
        "#   \"https://data.qiime2.org/2021.4/tutorials/training-feature-classifiers/85_otu_taxonomy.txt\""
      ]
    },
    {
      "cell_type": "code",
      "execution_count": null,
      "metadata": {
        "colab": {
          "background_save": true
        },
        "id": "v6GdHyRtNkmm",
        "outputId": "771b8003-3e4e-451d-da92-b5229f3c8490"
      },
      "outputs": [
        {
          "name": "stdout",
          "output_type": "stream",
          "text": [
            "--2022-09-22 16:35:49--  https://data.qiime2.org/2022.2/common/silva-138-99-nb-classifier.qza\n",
            "Resolving data.qiime2.org (data.qiime2.org)... 54.200.1.12\n",
            "Connecting to data.qiime2.org (data.qiime2.org)|54.200.1.12|:443... connected.\n",
            "HTTP request sent, awaiting response... 302 FOUND\n",
            "Location: https://s3-us-west-2.amazonaws.com/qiime2-data/2022.2/common/silva-138-99-nb-classifier.qza [following]\n",
            "--2022-09-22 16:35:50--  https://s3-us-west-2.amazonaws.com/qiime2-data/2022.2/common/silva-138-99-nb-classifier.qza\n",
            "Resolving s3-us-west-2.amazonaws.com (s3-us-west-2.amazonaws.com)... 52.92.194.120\n",
            "Connecting to s3-us-west-2.amazonaws.com (s3-us-west-2.amazonaws.com)|52.92.194.120|:443... connected.\n",
            "HTTP request sent, awaiting response... 200 OK\n",
            "Length: 531637835 (507M) [binary/octet-stream]\n",
            "Saving to: ‘silva-138-99-nb-classifier.qza.1’\n",
            "\n",
            "silva-138-99-nb-cla 100%[===================>] 507.01M  39.3MB/s    in 14s     \n",
            "\n",
            "2022-09-22 16:36:04 (35.9 MB/s) - ‘silva-138-99-nb-classifier.qza.1’ saved [531637835/531637835]\n",
            "\n"
          ]
        }
      ],
      "source": [
        "! wget https://data.qiime2.org/2022.2/common/silva-138-99-nb-classifier.qza"
      ]
    },
    {
      "cell_type": "code",
      "execution_count": null,
      "metadata": {
        "colab": {
          "background_save": true
        },
        "id": "ibfTQVqANctd"
      },
      "outputs": [],
      "source": [
        "# !wget https://data.qiime2.org/2021.8/common/gg-13-8-99-515-806-nb-classifier.qza"
      ]
    },
    {
      "cell_type": "code",
      "execution_count": null,
      "metadata": {
        "colab": {
          "background_save": true
        },
        "id": "sPpXhRr2C0-n",
        "outputId": "d8ee7ac6-586a-49a6-fb6a-00daa69d0601"
      },
      "outputs": [
        {
          "name": "stdout",
          "output_type": "stream",
          "text": [
            "16S_microbiom_data_gd.ipynb     pair_sequences.qza\n",
            "Copy_of_16S_solutions_gd.ipynb  qualities.qzv\n",
            "\u001b[0m\u001b[01;34mdada2\u001b[0m/                          README.md\n",
            "\u001b[01;34mdata\u001b[0m/                           setup_qiime2\n",
            "\u001b[01;34mdata2\u001b[0m/                          silva-138-99-nb-classifier.qza\n",
            "\u001b[01;34mdiversity\u001b[0m/                      silva-138-99-nb-classifier.qza.1\n",
            "LICENSE                         \u001b[01;34mtree\u001b[0m/\n"
          ]
        }
      ],
      "source": [
        "%ls"
      ]
    },
    {
      "cell_type": "code",
      "execution_count": null,
      "metadata": {
        "colab": {
          "background_save": true
        },
        "id": "EEBbgvnhDGTs",
        "outputId": "5b6df5d3-e3eb-468c-82e9-37ac9f3694fc"
      },
      "outputs": [
        {
          "name": "stdout",
          "output_type": "stream",
          "text": [
            "^C\n"
          ]
        }
      ],
      "source": [
        "!qiime feature-classifier classify-sklearn \\\n",
        "    --i-reads dada2/representative_sequences.qza \\\n",
        "    --i-classifier silva-138-99-nb-classifier.qza \\\n",
        "    --p-n-jobs 2 \\\n",
        "    --o-classification taxa.qza"
      ]
    },
    {
      "cell_type": "markdown",
      "metadata": {
        "id": "xISxzBo6Mpka"
      },
      "source": [
        "Now let's have a look at the relative abundances of the different bacterial taxa we have in each sample:"
      ]
    },
    {
      "cell_type": "code",
      "execution_count": null,
      "metadata": {
        "colab": {
          "background_save": true
        },
        "id": "4VTL2yEBMqfO",
        "outputId": "03383c64-ab7c-4e7d-e571-e6d94d5b6f36"
      },
      "outputs": [
        {
          "name": "stdout",
          "output_type": "stream",
          "text": [
            "Usage: \u001b[34mqiime taxa barplot\u001b[0m [OPTIONS]\n",
            "\n",
            "  This visualizer produces an interactive\n",
            "  barplot visualization of taxonomies.\n",
            "  Interactive features include multi-level\n",
            "  sorting, plot recoloring, sample relabeling,\n",
            "  and SVG figure export.\n",
            "\n",
            "\u001b[1mInputs\u001b[0m:\n",
            "  \u001b[34m\u001b[4m--i-table\u001b[0m ARTIFACT \u001b[32mFeatureTable[Frequency]\u001b[0m\n",
            "                         Feature table to\n",
            "                         visualize at various\n",
            "                         taxonomic levels.\n",
            "                                        \u001b[35m[required]\u001b[0m\n",
            "  \u001b[34m\u001b[4m--i-taxonomy\u001b[0m ARTIFACT \u001b[32mFeatureData[Taxonomy]\u001b[0m\n",
            "                         Taxonomic annotations\n",
            "                         for features in the\n",
            "                         provided feature table.\n",
            "                         All features in the\n",
            "                         feature table must have a\n",
            "                         corresponding taxonomic\n",
            "                         annotation. Taxonomic\n",
            "                         annotations that are not\n",
            "                         present in the feature\n",
            "                         table will be ignored.\n",
            "                                        \u001b[35m[required]\u001b[0m\n",
            "\u001b[1mParameters\u001b[0m:\n",
            "  \u001b[34m--m-metadata-file\u001b[0m METADATA...\n",
            "    (multiple            The sample metadata.\n",
            "     arguments will be   \n",
            "     merged)                            \u001b[35m[optional]\u001b[0m\n",
            "\u001b[1mOutputs\u001b[0m:\n",
            "  \u001b[34m\u001b[4m--o-visualization\u001b[0m VISUALIZATION\n",
            "                                        \u001b[35m[required]\u001b[0m\n",
            "\u001b[1mMiscellaneous\u001b[0m:\n",
            "  \u001b[34m--output-dir\u001b[0m PATH      Output unspecified\n",
            "                         results to a directory\n",
            "  \u001b[34m--verbose\u001b[0m / \u001b[34m--quiet\u001b[0m    Display verbose output\n",
            "                         to stdout and/or stderr\n",
            "                         during execution of this\n",
            "                         action. Or silence output\n",
            "                         if execution is\n",
            "                         successful (silence is\n",
            "                         golden).\n",
            "  \u001b[34m--examples\u001b[0m             Show usage examples and\n",
            "                         exit.\n",
            "  \u001b[34m--citations\u001b[0m            Show citations and exit.\n",
            "  \u001b[34m--help\u001b[0m                 Show this message and\n",
            "                         exit.\n",
            "\n",
            "\u001b[33m                    There was a problem with the command:                     \u001b[0m\n",
            "\u001b[31m\u001b[1m (1/1) Invalid value for '--i-taxonomy': 'taxa.qza' is not a valid filepath\u001b[0m\n"
          ]
        }
      ],
      "source": [
        "!qiime taxa barplot \\\n",
        "    --i-table dada2/table.qza \\\n",
        "    --i-taxonomy taxa.qza \\\n",
        "    --m-metadata-file data/metadata.tsv \\\n",
        "    --o-visualization taxa_barplot.qzv"
      ]
    },
    {
      "cell_type": "markdown",
      "metadata": {
        "id": "4_FVM8VfX_yQ"
      },
      "source": [
        "We can also collapse data on a particular taxonomic rank using the QIIME 2 [taxa plugin](https://docs.qiime2.org/2021.4/plugins/available/taxa/). Why might we want to look at different taxonomic ranks, rather than just looking at ASVs?"
      ]
    },
    {
      "cell_type": "code",
      "execution_count": null,
      "metadata": {
        "colab": {
          "background_save": true
        },
        "id": "gl72G8KaYmBm",
        "outputId": "db9934cd-b7cd-488c-bb1f-feae886e730f"
      },
      "outputs": [
        {
          "name": "stdout",
          "output_type": "stream",
          "text": [
            "Usage: \u001b[34mqiime taxa collapse\u001b[0m [OPTIONS]\n",
            "\n",
            "  Collapse groups of features that have the same\n",
            "  taxonomic assignment through the specified\n",
            "  level. The frequencies of all features will be\n",
            "  summed when they are collapsed.\n",
            "\n",
            "\u001b[1mInputs\u001b[0m:\n",
            "  \u001b[34m\u001b[4m--i-table\u001b[0m ARTIFACT \u001b[32mFeatureTable[Frequency]\u001b[0m\n",
            "                         Feature table to be\n",
            "                         collapsed.     \u001b[35m[required]\u001b[0m\n",
            "  \u001b[34m\u001b[4m--i-taxonomy\u001b[0m ARTIFACT \u001b[32mFeatureData[Taxonomy]\u001b[0m\n",
            "                         Taxonomic annotations\n",
            "                         for features in the\n",
            "                         provided feature table.\n",
            "                         All features in the\n",
            "                         feature table must have a\n",
            "                         corresponding taxonomic\n",
            "                         annotation. Taxonomic\n",
            "                         annotations that are not\n",
            "                         present in the feature\n",
            "                         table will be ignored.\n",
            "                                        \u001b[35m[required]\u001b[0m\n",
            "\u001b[1mParameters\u001b[0m:\n",
            "  \u001b[34m\u001b[4m--p-level\u001b[0m INTEGER      The taxonomic level at\n",
            "                         which the features should\n",
            "                         be collapsed. All ouput\n",
            "                         features will have\n",
            "                         exactly this many levels\n",
            "                         of taxonomic annotation.\n",
            "                                        \u001b[35m[required]\u001b[0m\n",
            "\u001b[1mOutputs\u001b[0m:\n",
            "  \u001b[34m\u001b[4m--o-collapsed-table\u001b[0m ARTIFACT \u001b[32m\u001b[0m\n",
            "    \u001b[32mFeatureTable[Frequency]\u001b[0m\n",
            "                         The resulting feature\n",
            "                         table, where all features\n",
            "                         are now taxonomic\n",
            "                         annotations with the\n",
            "                         user-specified number of\n",
            "                         levels.        \u001b[35m[required]\u001b[0m\n",
            "\u001b[1mMiscellaneous\u001b[0m:\n",
            "  \u001b[34m--output-dir\u001b[0m PATH      Output unspecified\n",
            "                         results to a directory\n",
            "  \u001b[34m--verbose\u001b[0m / \u001b[34m--quiet\u001b[0m    Display verbose output\n",
            "                         to stdout and/or stderr\n",
            "                         during execution of this\n",
            "                         action. Or silence output\n",
            "                         if execution is\n",
            "                         successful (silence is\n",
            "                         golden).\n",
            "  \u001b[34m--examples\u001b[0m             Show usage examples and\n",
            "                         exit.\n",
            "  \u001b[34m--citations\u001b[0m            Show citations and exit.\n",
            "  \u001b[34m--help\u001b[0m                 Show this message and\n",
            "                         exit.\n",
            "\n",
            "\u001b[33m                    There was a problem with the command:                     \u001b[0m\n",
            "\u001b[31m\u001b[1m (1/1) Invalid value for '--i-taxonomy': 'taxa.qza' is not a valid filepath\u001b[0m\n"
          ]
        }
      ],
      "source": [
        "!qiime taxa collapse \\\n",
        "    --i-table dada2/table.qza \\\n",
        "    --i-taxonomy taxa.qza \\\n",
        "    --p-level 6 \\\n",
        "    --o-collapsed-table genus.qza"
      ]
    },
    {
      "cell_type": "markdown",
      "metadata": {
        "id": "dlVdzgfbZcjt"
      },
      "source": [
        "We can export the table and convert it to a .csv file so that we can analyze these data using tools outside of the QIIME 2 environment."
      ]
    },
    {
      "cell_type": "code",
      "execution_count": null,
      "metadata": {
        "colab": {
          "background_save": true
        },
        "id": "ZsxKf3yAZiHk",
        "outputId": "1c075126-262a-450f-d5ba-990ea4232d17"
      },
      "outputs": [
        {
          "name": "stdout",
          "output_type": "stream",
          "text": [
            "Usage: \u001b[34mqiime tools export\u001b[0m [OPTIONS]\n",
            "\n",
            "  Exporting extracts (and optionally transforms)\n",
            "  data stored inside an Artifact or\n",
            "  Visualization. Note that Visualizations cannot\n",
            "  be transformed with --output-format\n",
            "\n",
            "\u001b[1mOptions\u001b[0m:\n",
            "  \u001b[34m\u001b[4m--input-path\u001b[0m ARTIFACT/VISUALIZATION\n",
            "                        Path to file that should\n",
            "                        be exported     \u001b[35m[required]\u001b[0m\n",
            "  \u001b[34m\u001b[4m--output-path\u001b[0m PATH    Path to file or directory\n",
            "                        where data should be\n",
            "                        exported to     \u001b[35m[required]\u001b[0m\n",
            "  \u001b[34m--output-format\u001b[0m TEXT  Format which the data\n",
            "                        should be exported as.\n",
            "                        This option cannot be used\n",
            "                        with Visualizations\n",
            "  \u001b[34m--help\u001b[0m                Show this message and\n",
            "                        exit.\n",
            "\n",
            "\u001b[33m                    There was a problem with the command:                     \u001b[0m\n",
            "\u001b[31m\u001b[1m (1/1) Invalid value for '--input-path': File 'genus.qza' does not exist.\u001b[0m\n",
            "Usage: biom convert [OPTIONS]\n",
            "Try 'biom convert -h' for help.\n",
            "\n",
            "Error: Invalid value for '-i' / '--input-fp': File 'exported/feature-table.biom' does not exist.\n"
          ]
        }
      ],
      "source": [
        "!qiime tools export \\\n",
        "    --input-path genus.qza \\\n",
        "    --output-path exported\n",
        "!biom convert -i exported/feature-table.biom -o genus.tsv --to-tsv"
      ]
    },
    {
      "cell_type": "markdown",
      "metadata": {
        "id": "TezGLSEGZrcn"
      },
      "source": [
        "Now the data are in a common format and we can use them, for instance, to draw a heatmap using Pandas and Seaborn. No need to understand every bit of code here. This just serves to illustrate that you can get data out of QIIME 2 for custom visualizations."
      ]
    },
    {
      "cell_type": "code",
      "execution_count": null,
      "metadata": {
        "colab": {
          "background_save": true
        },
        "id": "p5zUjU8JZqL4",
        "outputId": "e37111d4-abc4-4a95-fbd6-3dc8ee64ee65"
      },
      "outputs": [
        {
          "ename": "FileNotFoundError",
          "evalue": "ignored",
          "output_type": "error",
          "traceback": [
            "\u001b[0;31m---------------------------------------------------------------------------\u001b[0m",
            "\u001b[0;31mFileNotFoundError\u001b[0m                         Traceback (most recent call last)",
            "\u001b[0;32m<ipython-input-26-2c8413301972>\u001b[0m in \u001b[0;36m<module>\u001b[0;34m\u001b[0m\n\u001b[1;32m      3\u001b[0m \u001b[0;32mimport\u001b[0m \u001b[0mseaborn\u001b[0m \u001b[0;32mas\u001b[0m \u001b[0msns\u001b[0m\u001b[0;34m\u001b[0m\u001b[0;34m\u001b[0m\u001b[0m\n\u001b[1;32m      4\u001b[0m \u001b[0;34m\u001b[0m\u001b[0m\n\u001b[0;32m----> 5\u001b[0;31m \u001b[0mabundances\u001b[0m \u001b[0;34m=\u001b[0m \u001b[0mpd\u001b[0m\u001b[0;34m.\u001b[0m\u001b[0mread_table\u001b[0m\u001b[0;34m(\u001b[0m\u001b[0;34m\"genus.tsv\"\u001b[0m\u001b[0;34m,\u001b[0m \u001b[0mskiprows\u001b[0m\u001b[0;34m=\u001b[0m\u001b[0;36m1\u001b[0m\u001b[0;34m,\u001b[0m \u001b[0mindex_col\u001b[0m\u001b[0;34m=\u001b[0m\u001b[0;36m0\u001b[0m\u001b[0;34m)\u001b[0m\u001b[0;34m\u001b[0m\u001b[0;34m\u001b[0m\u001b[0m\n\u001b[0m\u001b[1;32m      6\u001b[0m \u001b[0mabundances\u001b[0m\u001b[0;34m.\u001b[0m\u001b[0mindex\u001b[0m \u001b[0;34m=\u001b[0m \u001b[0mabundances\u001b[0m\u001b[0;34m.\u001b[0m\u001b[0mindex\u001b[0m\u001b[0;34m.\u001b[0m\u001b[0mstr\u001b[0m\u001b[0;34m.\u001b[0m\u001b[0msplit\u001b[0m\u001b[0;34m(\u001b[0m\u001b[0;34m\";\"\u001b[0m\u001b[0;34m)\u001b[0m\u001b[0;34m.\u001b[0m\u001b[0mstr\u001b[0m\u001b[0;34m[\u001b[0m\u001b[0;36m5\u001b[0m\u001b[0;34m]\u001b[0m       \u001b[0;31m# Use only the genus name\u001b[0m\u001b[0;34m\u001b[0m\u001b[0;34m\u001b[0m\u001b[0m\n\u001b[1;32m      7\u001b[0m \u001b[0mabundances\u001b[0m \u001b[0;34m=\u001b[0m \u001b[0mabundances\u001b[0m\u001b[0;34m[\u001b[0m\u001b[0;34m~\u001b[0m\u001b[0mabundances\u001b[0m\u001b[0;34m.\u001b[0m\u001b[0mindex\u001b[0m\u001b[0;34m.\u001b[0m\u001b[0misin\u001b[0m\u001b[0;34m(\u001b[0m\u001b[0;34m[\u001b[0m\u001b[0;34m\"g__\"\u001b[0m\u001b[0;34m,\u001b[0m \u001b[0;34m\"__\"\u001b[0m\u001b[0;34m]\u001b[0m\u001b[0;34m)\u001b[0m\u001b[0;34m]\u001b[0m  \u001b[0;31m# remove unclassified genera\u001b[0m\u001b[0;34m\u001b[0m\u001b[0;34m\u001b[0m\u001b[0m\n",
            "\u001b[0;32m/usr/local/lib/python3.7/dist-packages/pandas/util/_decorators.py\u001b[0m in \u001b[0;36mwrapper\u001b[0;34m(*args, **kwargs)\u001b[0m\n\u001b[1;32m    309\u001b[0m                     \u001b[0mstacklevel\u001b[0m\u001b[0;34m=\u001b[0m\u001b[0mstacklevel\u001b[0m\u001b[0;34m,\u001b[0m\u001b[0;34m\u001b[0m\u001b[0;34m\u001b[0m\u001b[0m\n\u001b[1;32m    310\u001b[0m                 )\n\u001b[0;32m--> 311\u001b[0;31m             \u001b[0;32mreturn\u001b[0m \u001b[0mfunc\u001b[0m\u001b[0;34m(\u001b[0m\u001b[0;34m*\u001b[0m\u001b[0margs\u001b[0m\u001b[0;34m,\u001b[0m \u001b[0;34m**\u001b[0m\u001b[0mkwargs\u001b[0m\u001b[0;34m)\u001b[0m\u001b[0;34m\u001b[0m\u001b[0;34m\u001b[0m\u001b[0m\n\u001b[0m\u001b[1;32m    312\u001b[0m \u001b[0;34m\u001b[0m\u001b[0m\n\u001b[1;32m    313\u001b[0m         \u001b[0;32mreturn\u001b[0m \u001b[0mwrapper\u001b[0m\u001b[0;34m\u001b[0m\u001b[0;34m\u001b[0m\u001b[0m\n",
            "\u001b[0;32m/usr/local/lib/python3.7/dist-packages/pandas/io/parsers/readers.py\u001b[0m in \u001b[0;36mread_table\u001b[0;34m(filepath_or_buffer, sep, delimiter, header, names, index_col, usecols, squeeze, prefix, mangle_dupe_cols, dtype, engine, converters, true_values, false_values, skipinitialspace, skiprows, skipfooter, nrows, na_values, keep_default_na, na_filter, verbose, skip_blank_lines, parse_dates, infer_datetime_format, keep_date_col, date_parser, dayfirst, cache_dates, iterator, chunksize, compression, thousands, decimal, lineterminator, quotechar, quoting, doublequote, escapechar, comment, encoding, dialect, error_bad_lines, warn_bad_lines, on_bad_lines, encoding_errors, delim_whitespace, low_memory, memory_map, float_precision)\u001b[0m\n\u001b[1;32m    681\u001b[0m     \u001b[0mkwds\u001b[0m\u001b[0;34m.\u001b[0m\u001b[0mupdate\u001b[0m\u001b[0;34m(\u001b[0m\u001b[0mkwds_defaults\u001b[0m\u001b[0;34m)\u001b[0m\u001b[0;34m\u001b[0m\u001b[0;34m\u001b[0m\u001b[0m\n\u001b[1;32m    682\u001b[0m \u001b[0;34m\u001b[0m\u001b[0m\n\u001b[0;32m--> 683\u001b[0;31m     \u001b[0;32mreturn\u001b[0m \u001b[0m_read\u001b[0m\u001b[0;34m(\u001b[0m\u001b[0mfilepath_or_buffer\u001b[0m\u001b[0;34m,\u001b[0m \u001b[0mkwds\u001b[0m\u001b[0;34m)\u001b[0m\u001b[0;34m\u001b[0m\u001b[0;34m\u001b[0m\u001b[0m\n\u001b[0m\u001b[1;32m    684\u001b[0m \u001b[0;34m\u001b[0m\u001b[0m\n\u001b[1;32m    685\u001b[0m \u001b[0;34m\u001b[0m\u001b[0m\n",
            "\u001b[0;32m/usr/local/lib/python3.7/dist-packages/pandas/io/parsers/readers.py\u001b[0m in \u001b[0;36m_read\u001b[0;34m(filepath_or_buffer, kwds)\u001b[0m\n\u001b[1;32m    480\u001b[0m \u001b[0;34m\u001b[0m\u001b[0m\n\u001b[1;32m    481\u001b[0m     \u001b[0;31m# Create the parser.\u001b[0m\u001b[0;34m\u001b[0m\u001b[0;34m\u001b[0m\u001b[0;34m\u001b[0m\u001b[0m\n\u001b[0;32m--> 482\u001b[0;31m     \u001b[0mparser\u001b[0m \u001b[0;34m=\u001b[0m \u001b[0mTextFileReader\u001b[0m\u001b[0;34m(\u001b[0m\u001b[0mfilepath_or_buffer\u001b[0m\u001b[0;34m,\u001b[0m \u001b[0;34m**\u001b[0m\u001b[0mkwds\u001b[0m\u001b[0;34m)\u001b[0m\u001b[0;34m\u001b[0m\u001b[0;34m\u001b[0m\u001b[0m\n\u001b[0m\u001b[1;32m    483\u001b[0m \u001b[0;34m\u001b[0m\u001b[0m\n\u001b[1;32m    484\u001b[0m     \u001b[0;32mif\u001b[0m \u001b[0mchunksize\u001b[0m \u001b[0;32mor\u001b[0m \u001b[0miterator\u001b[0m\u001b[0;34m:\u001b[0m\u001b[0;34m\u001b[0m\u001b[0;34m\u001b[0m\u001b[0m\n",
            "\u001b[0;32m/usr/local/lib/python3.7/dist-packages/pandas/io/parsers/readers.py\u001b[0m in \u001b[0;36m__init__\u001b[0;34m(self, f, engine, **kwds)\u001b[0m\n\u001b[1;32m    809\u001b[0m             \u001b[0mself\u001b[0m\u001b[0;34m.\u001b[0m\u001b[0moptions\u001b[0m\u001b[0;34m[\u001b[0m\u001b[0;34m\"has_index_names\"\u001b[0m\u001b[0;34m]\u001b[0m \u001b[0;34m=\u001b[0m \u001b[0mkwds\u001b[0m\u001b[0;34m[\u001b[0m\u001b[0;34m\"has_index_names\"\u001b[0m\u001b[0;34m]\u001b[0m\u001b[0;34m\u001b[0m\u001b[0;34m\u001b[0m\u001b[0m\n\u001b[1;32m    810\u001b[0m \u001b[0;34m\u001b[0m\u001b[0m\n\u001b[0;32m--> 811\u001b[0;31m         \u001b[0mself\u001b[0m\u001b[0;34m.\u001b[0m\u001b[0m_engine\u001b[0m \u001b[0;34m=\u001b[0m \u001b[0mself\u001b[0m\u001b[0;34m.\u001b[0m\u001b[0m_make_engine\u001b[0m\u001b[0;34m(\u001b[0m\u001b[0mself\u001b[0m\u001b[0;34m.\u001b[0m\u001b[0mengine\u001b[0m\u001b[0;34m)\u001b[0m\u001b[0;34m\u001b[0m\u001b[0;34m\u001b[0m\u001b[0m\n\u001b[0m\u001b[1;32m    812\u001b[0m \u001b[0;34m\u001b[0m\u001b[0m\n\u001b[1;32m    813\u001b[0m     \u001b[0;32mdef\u001b[0m \u001b[0mclose\u001b[0m\u001b[0;34m(\u001b[0m\u001b[0mself\u001b[0m\u001b[0;34m)\u001b[0m\u001b[0;34m:\u001b[0m\u001b[0;34m\u001b[0m\u001b[0;34m\u001b[0m\u001b[0m\n",
            "\u001b[0;32m/usr/local/lib/python3.7/dist-packages/pandas/io/parsers/readers.py\u001b[0m in \u001b[0;36m_make_engine\u001b[0;34m(self, engine)\u001b[0m\n\u001b[1;32m   1038\u001b[0m             )\n\u001b[1;32m   1039\u001b[0m         \u001b[0;31m# error: Too many arguments for \"ParserBase\"\u001b[0m\u001b[0;34m\u001b[0m\u001b[0;34m\u001b[0m\u001b[0;34m\u001b[0m\u001b[0m\n\u001b[0;32m-> 1040\u001b[0;31m         \u001b[0;32mreturn\u001b[0m \u001b[0mmapping\u001b[0m\u001b[0;34m[\u001b[0m\u001b[0mengine\u001b[0m\u001b[0;34m]\u001b[0m\u001b[0;34m(\u001b[0m\u001b[0mself\u001b[0m\u001b[0;34m.\u001b[0m\u001b[0mf\u001b[0m\u001b[0;34m,\u001b[0m \u001b[0;34m**\u001b[0m\u001b[0mself\u001b[0m\u001b[0;34m.\u001b[0m\u001b[0moptions\u001b[0m\u001b[0;34m)\u001b[0m  \u001b[0;31m# type: ignore[call-arg]\u001b[0m\u001b[0;34m\u001b[0m\u001b[0;34m\u001b[0m\u001b[0m\n\u001b[0m\u001b[1;32m   1041\u001b[0m \u001b[0;34m\u001b[0m\u001b[0m\n\u001b[1;32m   1042\u001b[0m     \u001b[0;32mdef\u001b[0m \u001b[0m_failover_to_python\u001b[0m\u001b[0;34m(\u001b[0m\u001b[0mself\u001b[0m\u001b[0;34m)\u001b[0m\u001b[0;34m:\u001b[0m\u001b[0;34m\u001b[0m\u001b[0;34m\u001b[0m\u001b[0m\n",
            "\u001b[0;32m/usr/local/lib/python3.7/dist-packages/pandas/io/parsers/c_parser_wrapper.py\u001b[0m in \u001b[0;36m__init__\u001b[0;34m(self, src, **kwds)\u001b[0m\n\u001b[1;32m     49\u001b[0m \u001b[0;34m\u001b[0m\u001b[0m\n\u001b[1;32m     50\u001b[0m         \u001b[0;31m# open handles\u001b[0m\u001b[0;34m\u001b[0m\u001b[0;34m\u001b[0m\u001b[0;34m\u001b[0m\u001b[0m\n\u001b[0;32m---> 51\u001b[0;31m         \u001b[0mself\u001b[0m\u001b[0;34m.\u001b[0m\u001b[0m_open_handles\u001b[0m\u001b[0;34m(\u001b[0m\u001b[0msrc\u001b[0m\u001b[0;34m,\u001b[0m \u001b[0mkwds\u001b[0m\u001b[0;34m)\u001b[0m\u001b[0;34m\u001b[0m\u001b[0;34m\u001b[0m\u001b[0m\n\u001b[0m\u001b[1;32m     52\u001b[0m         \u001b[0;32massert\u001b[0m \u001b[0mself\u001b[0m\u001b[0;34m.\u001b[0m\u001b[0mhandles\u001b[0m \u001b[0;32mis\u001b[0m \u001b[0;32mnot\u001b[0m \u001b[0;32mNone\u001b[0m\u001b[0;34m\u001b[0m\u001b[0;34m\u001b[0m\u001b[0m\n\u001b[1;32m     53\u001b[0m \u001b[0;34m\u001b[0m\u001b[0m\n",
            "\u001b[0;32m/usr/local/lib/python3.7/dist-packages/pandas/io/parsers/base_parser.py\u001b[0m in \u001b[0;36m_open_handles\u001b[0;34m(self, src, kwds)\u001b[0m\n\u001b[1;32m    227\u001b[0m             \u001b[0mmemory_map\u001b[0m\u001b[0;34m=\u001b[0m\u001b[0mkwds\u001b[0m\u001b[0;34m.\u001b[0m\u001b[0mget\u001b[0m\u001b[0;34m(\u001b[0m\u001b[0;34m\"memory_map\"\u001b[0m\u001b[0;34m,\u001b[0m \u001b[0;32mFalse\u001b[0m\u001b[0;34m)\u001b[0m\u001b[0;34m,\u001b[0m\u001b[0;34m\u001b[0m\u001b[0;34m\u001b[0m\u001b[0m\n\u001b[1;32m    228\u001b[0m             \u001b[0mstorage_options\u001b[0m\u001b[0;34m=\u001b[0m\u001b[0mkwds\u001b[0m\u001b[0;34m.\u001b[0m\u001b[0mget\u001b[0m\u001b[0;34m(\u001b[0m\u001b[0;34m\"storage_options\"\u001b[0m\u001b[0;34m,\u001b[0m \u001b[0;32mNone\u001b[0m\u001b[0;34m)\u001b[0m\u001b[0;34m,\u001b[0m\u001b[0;34m\u001b[0m\u001b[0;34m\u001b[0m\u001b[0m\n\u001b[0;32m--> 229\u001b[0;31m             \u001b[0merrors\u001b[0m\u001b[0;34m=\u001b[0m\u001b[0mkwds\u001b[0m\u001b[0;34m.\u001b[0m\u001b[0mget\u001b[0m\u001b[0;34m(\u001b[0m\u001b[0;34m\"encoding_errors\"\u001b[0m\u001b[0;34m,\u001b[0m \u001b[0;34m\"strict\"\u001b[0m\u001b[0;34m)\u001b[0m\u001b[0;34m,\u001b[0m\u001b[0;34m\u001b[0m\u001b[0;34m\u001b[0m\u001b[0m\n\u001b[0m\u001b[1;32m    230\u001b[0m         )\n\u001b[1;32m    231\u001b[0m \u001b[0;34m\u001b[0m\u001b[0m\n",
            "\u001b[0;32m/usr/local/lib/python3.7/dist-packages/pandas/io/common.py\u001b[0m in \u001b[0;36mget_handle\u001b[0;34m(path_or_buf, mode, encoding, compression, memory_map, is_text, errors, storage_options)\u001b[0m\n\u001b[1;32m    705\u001b[0m                 \u001b[0mencoding\u001b[0m\u001b[0;34m=\u001b[0m\u001b[0mioargs\u001b[0m\u001b[0;34m.\u001b[0m\u001b[0mencoding\u001b[0m\u001b[0;34m,\u001b[0m\u001b[0;34m\u001b[0m\u001b[0;34m\u001b[0m\u001b[0m\n\u001b[1;32m    706\u001b[0m                 \u001b[0merrors\u001b[0m\u001b[0;34m=\u001b[0m\u001b[0merrors\u001b[0m\u001b[0;34m,\u001b[0m\u001b[0;34m\u001b[0m\u001b[0;34m\u001b[0m\u001b[0m\n\u001b[0;32m--> 707\u001b[0;31m                 \u001b[0mnewline\u001b[0m\u001b[0;34m=\u001b[0m\u001b[0;34m\"\"\u001b[0m\u001b[0;34m,\u001b[0m\u001b[0;34m\u001b[0m\u001b[0;34m\u001b[0m\u001b[0m\n\u001b[0m\u001b[1;32m    708\u001b[0m             )\n\u001b[1;32m    709\u001b[0m         \u001b[0;32melse\u001b[0m\u001b[0;34m:\u001b[0m\u001b[0;34m\u001b[0m\u001b[0;34m\u001b[0m\u001b[0m\n",
            "\u001b[0;31mFileNotFoundError\u001b[0m: [Errno 2] No such file or directory: 'genus.tsv'"
          ]
        }
      ],
      "source": [
        "import numpy as np\n",
        "import pandas as pd\n",
        "import seaborn as sns\n",
        "\n",
        "abundances = pd.read_table(\"genus.tsv\", skiprows=1, index_col=0)\n",
        "abundances.index = abundances.index.str.split(\";\").str[5]       # Use only the genus name\n",
        "abundances = abundances[~abundances.index.isin([\"g__\", \"__\"])]  # remove unclassified genera\n",
        "abundances = abundances.iloc[0:100]                             # use only the first 100 genera\n",
        "\n",
        "# Let's do a centered log-ratio transform: log x_i - log mean(x)\n",
        "transformed = abundances.apply(\n",
        "    lambda xs: np.log(xs + 0.5) - np.log(xs.mean() + 0.5),\n",
        "    axis=1)\n",
        "\n",
        "sns.clustermap(transformed.T, cmap='RdPu', xticklabels=True, figsize=(20, 5))"
      ]
    },
    {
      "cell_type": "code",
      "execution_count": null,
      "metadata": {
        "colab": {
          "background_save": true
        },
        "id": "IA7JuUilOlEg"
      },
      "outputs": [],
      "source": [
        "sns.clustermap(transformed.T, cmap='RdPu', xticklabels=True, figsize=(18, 13))\n",
        "sns_pp = sns.clustermap(transformed.T, cmap='RdPu', xticklabels=True, figsize=(18, 13))\n",
        "# sns_pp = sns.pairplot(df)\n",
        "sns_pp.savefig(\"sns_class_heatmap.png\")"
      ]
    },
    {
      "cell_type": "markdown",
      "metadata": {
        "id": "QbRoCh1BR0GZ"
      },
      "source": [
        "# Exercises\n",
        "\n",
        "Okay, that's enough time in the back seat. \n",
        "\n",
        "It's time to take the wheel 🚗 \n",
        "\n",
        "Now you can dive into the data 🏊"
      ]
    },
    {
      "cell_type": "markdown",
      "metadata": {
        "id": "Moq2YOvDSDap"
      },
      "source": [
        "## Exercise 1 - Sample Classification\n",
        "\n",
        "One pretty basic question we can ask is whether the microbial community composition is predictive of environmental type. \n",
        "Could you predict if a sample came from a free-living or host-associated environment from 16S data alone? \n",
        "\n",
        "Metadata about the samples is again contained in `metadata.tsv` which looks like this:"
      ]
    },
    {
      "cell_type": "code",
      "execution_count": null,
      "metadata": {
        "colab": {
          "background_save": true
        },
        "id": "T16jC6U1ONow"
      },
      "outputs": [],
      "source": [
        "import pandas as pd\n",
        "\n",
        "pd.read_csv(\"data/metadata.tsv\", sep=\"\\t\")"
      ]
    },
    {
      "cell_type": "markdown",
      "metadata": {
        "id": "j1Q2ZpBEON42"
      },
      "source": [
        "Start with the `classify-samples` action and follow it up by finding and looking at the `heatmap` visualization afterwards that shows important taxa.\n",
        "\n",
        "We will try to build a machine learning model that can predict whether a microbiome is animal-associated or free-living.\n",
        "\n",
        "You can also find accuracy results that will tell you how well the phenotype can be predicted from the microbial composition.\n",
        "\n",
        "I filled in the command for you but it is missing some inputs. Can you complete it? \n",
        "\n",
        "Try to use the genus table and not the ASV table here (why?).\n",
        "\n",
        "**QUESTIONS:**\n",
        "\n",
        "1) What does it mean for data to be in the 'training' or 'test' set? \n",
        "\n",
        "2) How well did this classifier perform? \n",
        "\n",
        "3) What ASVs contributed most to model performance? Why do you think these ASVs were so important?\n",
        "\n",
        "4) Do you think this is a model is broadly useful? Would it perform well on external data that it has not seen yet? Why or why not?\n"
      ]
    },
    {
      "cell_type": "code",
      "execution_count": null,
      "metadata": {
        "colab": {
          "background_save": true
        },
        "id": "Nhf1g2RpSCak"
      },
      "outputs": [],
      "source": [
        "!rm -rf classifier\n",
        "!qiime sample-classifier classify-samples \\\n",
        "    --i-table genus.qza \\\n",
        "    --m-metadata-file data/metadata.tsv \\\n",
        "    --m-metadata-column Responses \\\n",
        "    --p-n-jobs 2 \\\n",
        "    --p-test-size 0.33 \\\n",
        "    --p-cv 1 \\\n",
        "    --output-dir classifier "
      ]
    },
    {
      "cell_type": "markdown",
      "metadata": {
        "id": "STPJ5yvNM8L1"
      },
      "source": [
        "Okay, we filled in the command here. ASVs are obtained from the data set itself and depend heavily on the specific amplicon (and thus on the primers). To make the model a bit more generalizable, we can collapse counts to the genus level, because you could easily count genera even in data where a different 16S amplicon was used. Ok, let's get to the questions.\n",
        "\n",
        "**1)** One thing we would like to estimate is how well the model will perform on new data without training it anew. Here \"training\" means fitting some internal parameters of the model to the data. For instance, fitting coefficients in a linear regression model. What we would like to know now is if the  model still works well on data that was not used for training the model. If it does not, we often call that [\"overfitting\"](https://en.wikipedia.org/wiki/Overfitting) which means model works well on the training data but horribly on new data. To check for this, we can hold out a few samples as a \"test set\" -- those will not be used for training but we still know the ground truth for them (i.e. the environment they came from). If we train the model now we can then validate its robustness using the test set to see if it performs well on that data that it hasn't seen before.\n",
        "\n",
        "**2)** For the performance we can look at the accuracy visualization `classifier/accuracy_results.qzv` by opening it with the [QIIME 2 viewer](https://view.qiime2.org/). This shows the results for the test set. We held out 1/3 of the data for testing which means 5/15 samples. It will show you the real label (animal-associated = yes, free-living = no) and what the model predicted. It should show a near-perfect performance on the test data, meaning that the model as good accuracy in the test set. Yay!\n",
        "\n",
        "**3)** We might ask which particular genera are actually important to the prediction. A list of up to 50 genera that help the most with classification can be visualized by opening the `classifier/heatmap.qzv` visualization with the QIIME 2 viewer. Each row denotes a group (animal-associated or not) and each column denotes a genus. Each cell is colored by the average abundance of this genus in each group. As you can see for the most part those are mutually exlusive genera. A whole bunch of genera that appear only in free-living microbiota and quite a few that only live in animal-associated microbiota.\n",
        "\n",
        "**4)** To some degree, we already looked at this question by using our test set. However, even the test set only used data from the 5 environments studied in this course. What would happen if some new kind of environment contained none of the genera that we saw on the heatmap? Our classifier would probably not perform well there. Similarly what would happen if we had assigned taxonomy with SILVA, which would have assigned different genera names? It would probably not perform well there either. So even with a test set the classifier probably *only works on data with similar charateristics* as the training data. "
      ]
    },
    {
      "cell_type": "markdown",
      "metadata": {
        "id": "hy5HN4ZoS2-9"
      },
      "source": [
        "## Exercise 2 - Plant a Tree\n",
        "\n",
        "One visualization that we did not spend a lot of time on was the phylogentic tree of our ASVs. Let's change that! \n",
        "\n",
        "Let's annotate the tree with our taxonomic classifications and abundances. We will use the empress plugin again, but this time with the `community-plot` option. I filled in a template of the command for you. Can you figure out what has to go in the empty spaces?\n",
        "\n",
        "**QUESTIONS:**\n",
        "\n",
        "1) Are some of the branch lengths on the tree longer than you would expect? Do you notice anything interesting or suspicious about the taxonomic identities of these branches?\n",
        "\n",
        "2) Can you find examples of phyla that are polyphyletic (i.e. where clusters of ASVs from the same phylum are found in different locations on the tree, showing different commmon ancestors)? What about polyphyletic taxa at lower taxonomic levels, like at the family or genus levels? Why do you think these patterns exist?"
      ]
    },
    {
      "cell_type": "code",
      "execution_count": null,
      "metadata": {
        "colab": {
          "background_save": true
        },
        "id": "tq9TWRMjkER5"
      },
      "outputs": [],
      "source": [
        "!qiime empress community-plot \\\n",
        "    --i-tree tree/rooted_tree.qza \\\n",
        "    --i-feature-table dada2/table.qza \\\n",
        "    --m-sample-metadata-file data/metadata.tsv \\\n",
        "    --m-feature-metadata-file taxa.qza \\\n",
        "    --o-visualization community-tree-viz.qzv"
      ]
    },
    {
      "cell_type": "markdown",
      "metadata": {
        "id": "S1rWPAn6Gwwq"
      },
      "source": [
        "This is what the command looks like with everything filled in. This command will create the same tree as before, but you can now annotate it with a lot more information, and hovering over a node will now also show its taxonomic classification. Another thing that can be helpful is to collapse nodes on a particular taxonomic rank. For instance, you could collapse on the genus level to reduce the large number of external nodes (and the unclassified ones). \n",
        "\n",
        "![Example visualization](https://github.com/Gibbons-Lab/isb_course_2021/raw/main/docs/16S/assets/community_tree.png)\n",
        "\n",
        "Let's get to the questions:\n",
        "\n",
        "**1)** There are definitely some very long branches, what could be happening? Hovering over those very separate nodes you see that some of them have no classification, sometimes not even on the kingdom level. Interestingly, bacteria are not the only organisms that have a 16S gene. But the GreenGenes database mostly covers bacteria. The ones not classified on the kingdom level are thus likely sequences coming from 16S genes from another Domain, such as archaea. However, many of these very long branches are still classified as bacteria, and in many cases get classified as mitochondria or choloroplasts. First, of all it's really hard to distinguish mitochondria and chloroplast based on the V4 region alone. These organelles have diverged a lot from other bacteria, however they are still related to bacteria, which is somewhat consistent with [endosymbiotic theory](https://en.wikipedia.org/wiki/Symbiogenesis). Mitochondria, chloroplasts, and plastids often still contain their own genomes, seperate from their eukaryotic host cells (i.e. plants, animals, fungi, protists), and their internal 16S genes are still close enough to bacteria that the V4 primers will amplify them.\n",
        "\n",
        "**2)** In most cases you would expect that taxonomy should match the tree that you obtain by aligning the V4 sequences. After all taxonomies like NCBI, GreenGenes, or SILVA are often built by aligning the the core proteins, full 16S gene, or other parts of the genome. These molecular taxonomies are often designed to be monophyletic. However, initial taxonomic classification of microbes in the 19th and 20th centuries was based upon phenotypic assays. And as we see in the metabolic modeling course, sometimes unrelated taxa can show similar metabolic functionality. This is why you will find, for instance, genera like `Prevotella_1`, `Prevotella_2`, and `Prevotella_3` in SILVA. The sequences from organisms classified originally as Prevotella fell into polyphyletic groups (i.e. they didn't all share the same common ancestor) and were thus split up further into monopyletic clades. When building trees from amplicon sequencing data, you will often see examples of polyphyletic taxa.  You can further explore these polyphyletic taxa by coloring nodes by their environment, and you will often see that many of those polyphyletic groups are found in distinct environments."
      ]
    },
    {
      "cell_type": "markdown",
      "metadata": {
        "id": "tFuoGkWtptmR"
      },
      "source": [
        "<br><br><br>\n",
        "\n",
        "---\n",
        "\n",
        "# 🦠 Space for the Project Challenge\n",
        "\n",
        "You can start working on the project challenge here if you would like. If you rerun all the previous cells in the notebook (`Runtime > Run All`) you should be all set to start working on the challenge. Remember that you can get help in the Slack channel and also in the [Qiime 2 documentation](https://docs.qiime2.org)."
      ]
    },
    {
      "cell_type": "code",
      "execution_count": null,
      "metadata": {
        "colab": {
          "background_save": true
        },
        "id": "pq919yDYqYoe"
      },
      "outputs": [],
      "source": [
        "# You can add more code cells with the \"+ Code\" button on the top right\n"
      ]
    }
  ],
  "metadata": {
    "colab": {
      "collapsed_sections": [],
      "provenance": []
    },
    "kernelspec": {
      "display_name": "Python 3",
      "name": "python3"
    }
  },
  "nbformat": 4,
  "nbformat_minor": 0
}